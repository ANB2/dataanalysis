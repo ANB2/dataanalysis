{
 "metadata": {
  "name": "multiple_testing"
 },
 "nbformat": 3,
 "nbformat_minor": 0,
 "worksheets": [
  {
   "cells": [
    {
     "cell_type": "code",
     "collapsed": false,
     "input": [
      "import pandas as pd\n",
      "import numpy as np\n",
      "import patsy as pt\n",
      "import statsmodels.api as sm\n",
      "from statsmodels.sandbox.stats.multicomp import multipletests"
     ],
     "language": "python",
     "metadata": {},
     "outputs": [],
     "prompt_number": 1
    },
    {
     "cell_type": "markdown",
     "metadata": {},
     "source": [
      "<style>\n",
      "    div.input {\n",
      "        width: 105ex; /* about 80 chars + buffer */\n",
      "    }\n",
      "    div.text_cell {\n",
      "        width: 105ex; /* instead of 100% */\n",
      "    }\n",
      "    div.text_cell_render {\n",
      "        /*font-family: \"Helvetica Neue\", Arial, Helvetica, Geneva, sans-serif;*/\n",
      "        font-family: \"Charis SIL\", serif !important; /* Make non-code text serif. */\n",
      "        line-height: 145% !important; /* added for some line spacing of text. */\n",
      "        width: 105ex !important; /* instead of 'inherit' for shorter lines */\n",
      "    }\n",
      "    div.text_cell_render h1 {\n",
      "        font-size: 18pt;\n",
      "    }\n",
      "    div.text_cell_render h2 {\n",
      "        font-size: 14pt;\n",
      "    }\n",
      "    .CodeMirror {\n",
      "        font-family: Consolas, monospace;\n",
      "    }\n",
      "</style>\n",
      "\n",
      "Test"
     ]
    },
    {
     "cell_type": "code",
     "collapsed": false,
     "input": [
      "np.random.seed(1010093)\n",
      "\n",
      "pValues = []\n",
      "\n",
      "for i in xrange(1000):\n",
      "    x = np.random.normal(size=20)\n",
      "    y = np.random.normal(size=20)\n",
      "    y, x = pt.dmatrices('y ~ x')\n",
      "\n",
      "    pValues.append(sm.OLS(y, x).fit().pvalues[1])\n",
      "    \n",
      "pValues = np.array(pValues)"
     ],
     "language": "python",
     "metadata": {},
     "outputs": [],
     "prompt_number": 17
    },
    {
     "cell_type": "code",
     "collapsed": false,
     "input": [
      "sum(pValues < .05)"
     ],
     "language": "python",
     "metadata": {},
     "outputs": [
      {
       "output_type": "pyout",
       "prompt_number": 18,
       "text": [
        "54"
       ]
      }
     ],
     "prompt_number": 18
    },
    {
     "cell_type": "code",
     "collapsed": false,
     "input": [
      "_, p_adjust, _, _ = multipletests(pValues, method='bonferroni')\n",
      "sum(p_adjust < .05)"
     ],
     "language": "python",
     "metadata": {},
     "outputs": [
      {
       "output_type": "pyout",
       "prompt_number": 19,
       "text": [
        "0"
       ]
      }
     ],
     "prompt_number": 19
    },
    {
     "cell_type": "code",
     "collapsed": false,
     "input": [
      "_, p_adjust, _, _ = multipletests(pValues, method='fdr_bh')\n",
      "sum(p_adjust < .05)"
     ],
     "language": "python",
     "metadata": {},
     "outputs": [
      {
       "output_type": "pyout",
       "prompt_number": 20,
       "text": [
        "0"
       ]
      }
     ],
     "prompt_number": 20
    },
    {
     "cell_type": "code",
     "collapsed": false,
     "input": [
      "np.random.seed(1010093)\n",
      "\n",
      "pValues = []\n",
      "\n",
      "for i in xrange(1000):\n",
      "    x = np.random.normal(size=20)\n",
      "    \n",
      "    # first 500 beta = 0, last 500 beta = 2\n",
      "    if i < 500:\n",
      "        y = np.random.normal(size=20)\n",
      "    else:\n",
      "        y = np.random.normal(loc=2*x, size=20)\n",
      "\n",
      "    y, x = pt.dmatrices('y ~ x')\n",
      "    \n",
      "    pValues.append(sm.OLS(y, x).fit().pvalues[1])\n",
      "    \n",
      "pValues = np.array(pValues)"
     ],
     "language": "python",
     "metadata": {},
     "outputs": [],
     "prompt_number": 21
    },
    {
     "cell_type": "code",
     "collapsed": false,
     "input": [
      "trueStatus = np.concatenate([np.repeat('zero', 500), np.repeat('not zero', 500)])\n",
      "pd.crosstab(pValues < .05, trueStatus)"
     ],
     "language": "python",
     "metadata": {},
     "outputs": [
      {
       "html": [
        "<div style=\"max-height:1000px;max-width:1500px;overflow:auto;\">\n",
        "<table border=\"1\" class=\"dataframe\">\n",
        "  <thead>\n",
        "    <tr style=\"text-align: right;\">\n",
        "      <th>col_0</th>\n",
        "      <th>not zero</th>\n",
        "      <th>zero</th>\n",
        "    </tr>\n",
        "    <tr>\n",
        "      <th>row_0</th>\n",
        "      <th></th>\n",
        "      <th></th>\n",
        "    </tr>\n",
        "  </thead>\n",
        "  <tbody>\n",
        "    <tr>\n",
        "      <th>False</th>\n",
        "      <td>   0</td>\n",
        "      <td> 470</td>\n",
        "    </tr>\n",
        "    <tr>\n",
        "      <th>True </th>\n",
        "      <td> 500</td>\n",
        "      <td>  30</td>\n",
        "    </tr>\n",
        "  </tbody>\n",
        "</table>\n",
        "</div>"
       ],
       "output_type": "pyout",
       "prompt_number": 22,
       "text": [
        "col_0  not zero  zero\n",
        "row_0                \n",
        "False         0   470\n",
        "True        500    30"
       ]
      }
     ],
     "prompt_number": 22
    },
    {
     "cell_type": "code",
     "collapsed": false,
     "input": [
      "_, p_adjust, _, _ = multipletests(pValues, method='bonferroni')\n",
      "pd.crosstab(p_adjust < .05, trueStatus)"
     ],
     "language": "python",
     "metadata": {},
     "outputs": [
      {
       "html": [
        "<div style=\"max-height:1000px;max-width:1500px;overflow:auto;\">\n",
        "<table border=\"1\" class=\"dataframe\">\n",
        "  <thead>\n",
        "    <tr style=\"text-align: right;\">\n",
        "      <th>col_0</th>\n",
        "      <th>not zero</th>\n",
        "      <th>zero</th>\n",
        "    </tr>\n",
        "    <tr>\n",
        "      <th>row_0</th>\n",
        "      <th></th>\n",
        "      <th></th>\n",
        "    </tr>\n",
        "  </thead>\n",
        "  <tbody>\n",
        "    <tr>\n",
        "      <th>False</th>\n",
        "      <td>  29</td>\n",
        "      <td> 500</td>\n",
        "    </tr>\n",
        "    <tr>\n",
        "      <th>True </th>\n",
        "      <td> 471</td>\n",
        "      <td>   0</td>\n",
        "    </tr>\n",
        "  </tbody>\n",
        "</table>\n",
        "</div>"
       ],
       "output_type": "pyout",
       "prompt_number": 23,
       "text": [
        "col_0  not zero  zero\n",
        "row_0                \n",
        "False        29   500\n",
        "True        471     0"
       ]
      }
     ],
     "prompt_number": 23
    },
    {
     "cell_type": "code",
     "collapsed": false,
     "input": [
      "plot(pValues, p_adjust, 'ok')\n",
      "xlim(-.05, 1.05)\n",
      "ylim(-.05, 1.05)\n",
      "xlabel('pValues')\n",
      "ylabel('p_adjust');"
     ],
     "language": "python",
     "metadata": {},
     "outputs": [
      {
       "output_type": "display_data",
       "png": "[encoded data removed]"
      }
     ],
     "prompt_number": 24
    },
    {
     "cell_type": "code",
     "collapsed": false,
     "input": [
      "_, p_adjust, _, _ = multipletests(pValues, method='fdr_bh')\n",
      "pd.crosstab(p_adjust < .05, trueStatus)"
     ],
     "language": "python",
     "metadata": {},
     "outputs": [
      {
       "html": [
        "<div style=\"max-height:1000px;max-width:1500px;overflow:auto;\">\n",
        "<table border=\"1\" class=\"dataframe\">\n",
        "  <thead>\n",
        "    <tr style=\"text-align: right;\">\n",
        "      <th>col_0</th>\n",
        "      <th>not zero</th>\n",
        "      <th>zero</th>\n",
        "    </tr>\n",
        "    <tr>\n",
        "      <th>row_0</th>\n",
        "      <th></th>\n",
        "      <th></th>\n",
        "    </tr>\n",
        "  </thead>\n",
        "  <tbody>\n",
        "    <tr>\n",
        "      <th>False</th>\n",
        "      <td>   0</td>\n",
        "      <td> 483</td>\n",
        "    </tr>\n",
        "    <tr>\n",
        "      <th>True </th>\n",
        "      <td> 500</td>\n",
        "      <td>  17</td>\n",
        "    </tr>\n",
        "  </tbody>\n",
        "</table>\n",
        "</div>"
       ],
       "output_type": "pyout",
       "prompt_number": 25,
       "text": [
        "col_0  not zero  zero\n",
        "row_0                \n",
        "False         0   483\n",
        "True        500    17"
       ]
      }
     ],
     "prompt_number": 25
    },
    {
     "cell_type": "code",
     "collapsed": false,
     "input": [
      "plot(pValues, p_adjust, 'ok')\n",
      "xlim(-.05, 1.05)\n",
      "ylim(-.05, 1.05)\n",
      "xlabel('pValues')\n",
      "ylabel('p_adjust');"
     ],
     "language": "python",
     "metadata": {},
     "outputs": [
      {
       "output_type": "display_data",
       "png": "[encoded data removed]"
      }
     ],
     "prompt_number": 26
    },
    {
     "cell_type": "code",
     "collapsed": false,
     "input": [],
     "language": "python",
     "metadata": {},
     "outputs": []
    }
   ],
   "metadata": {}
  }
 ]
}