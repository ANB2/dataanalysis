{
 "metadata": {
  "name": "predicting_with_regression"
 },
 "nbformat": 3,
 "nbformat_minor": 0,
 "worksheets": [
  {
   "cells": [
    {
     "cell_type": "code",
     "collapsed": false,
     "input": [
      "import pandas as pd\n",
      "import numpy as np\n",
      "import pandas.rpy.common as com"
     ],
     "language": "python",
     "metadata": {},
     "outputs": [],
     "prompt_number": 78
    },
    {
     "cell_type": "code",
     "collapsed": false,
     "input": [
      "faithful = com.load_data('faithful')\n",
      "faithful.shape"
     ],
     "language": "python",
     "metadata": {},
     "outputs": [
      {
       "output_type": "pyout",
       "prompt_number": 10,
       "text": [
        "(272, 2)"
       ]
      }
     ],
     "prompt_number": 10
    },
    {
     "cell_type": "code",
     "collapsed": false,
     "input": [
      "%load_ext rmagic"
     ],
     "language": "python",
     "metadata": {},
     "outputs": [],
     "prompt_number": 6
    },
    {
     "cell_type": "code",
     "collapsed": false,
     "input": [
      "%%R -o trainSamples\n",
      "set.seed(333)\n",
      "trainSamples <- sample(1:272,size=(272/2),replace=F)"
     ],
     "language": "python",
     "metadata": {},
     "outputs": [],
     "prompt_number": 22
    },
    {
     "cell_type": "code",
     "collapsed": false,
     "input": [
      "trainFaith = faithful.ix[trainSamples,:]\n",
      "testFaith = faithful.ix[faithful.index - trainSamples,:]"
     ],
     "language": "python",
     "metadata": {},
     "outputs": [],
     "prompt_number": 31
    },
    {
     "cell_type": "code",
     "collapsed": false,
     "input": [
      "trainFaith.head()"
     ],
     "language": "python",
     "metadata": {},
     "outputs": [
      {
       "html": [
        "<div style=\"max-height:1000px;max-width:1500px;overflow:auto;\">\n",
        "<table border=\"1\" class=\"dataframe\">\n",
        "  <thead>\n",
        "    <tr style=\"text-align: right;\">\n",
        "      <th></th>\n",
        "      <th>eruptions</th>\n",
        "      <th>waiting</th>\n",
        "    </tr>\n",
        "  </thead>\n",
        "  <tbody>\n",
        "    <tr>\n",
        "      <td><strong>128</strong></td>\n",
        "      <td> 4.500</td>\n",
        "      <td> 82</td>\n",
        "    </tr>\n",
        "    <tr>\n",
        "      <td><strong>23 </strong></td>\n",
        "      <td> 3.450</td>\n",
        "      <td> 78</td>\n",
        "    </tr>\n",
        "    <tr>\n",
        "      <td><strong>263</strong></td>\n",
        "      <td> 1.850</td>\n",
        "      <td> 58</td>\n",
        "    </tr>\n",
        "    <tr>\n",
        "      <td><strong>154</strong></td>\n",
        "      <td> 4.600</td>\n",
        "      <td> 81</td>\n",
        "    </tr>\n",
        "    <tr>\n",
        "      <td><strong>6  </strong></td>\n",
        "      <td> 2.883</td>\n",
        "      <td> 55</td>\n",
        "    </tr>\n",
        "  </tbody>\n",
        "</table>\n",
        "</div>"
       ],
       "output_type": "pyout",
       "prompt_number": 32,
       "text": [
        "     eruptions  waiting\n",
        "128      4.500       82\n",
        "23       3.450       78\n",
        "263      1.850       58\n",
        "154      4.600       81\n",
        "6        2.883       55"
       ]
      }
     ],
     "prompt_number": 32
    },
    {
     "cell_type": "code",
     "collapsed": false,
     "input": [
      "from statsmodels.formula.api import ols\n",
      "\n",
      "lm1 = ols('eruptions ~ waiting', trainFaith).fit()\n",
      "lm1.summary()"
     ],
     "language": "python",
     "metadata": {},
     "outputs": [
      {
       "html": [
        "<table class=\"simpletable\">\n",
        "<caption>OLS Regression Results</caption>\n",
        "<tr>\n",
        "  <th>Dep. Variable:</th>        <td>eruptions</td>    <th>  R-squared:         </th> <td>   0.814</td>\n",
        "</tr>\n",
        "<tr>\n",
        "  <th>Model:</th>                   <td>OLS</td>       <th>  Adj. R-squared:    </th> <td>   0.812</td>\n",
        "</tr>\n",
        "<tr>\n",
        "  <th>Method:</th>             <td>Least Squares</td>  <th>  F-statistic:       </th> <td>   584.8</td>\n",
        "</tr>\n",
        "<tr>\n",
        "  <th>Date:</th>             <td>Thu, 28 Feb 2013</td> <th>  Prob (F-statistic):</th> <td>1.02e-50</td>\n",
        "</tr>\n",
        "<tr>\n",
        "  <th>Time:</th>                 <td>22:56:59</td>     <th>  Log-Likelihood:    </th> <td> -95.927</td>\n",
        "</tr>\n",
        "<tr>\n",
        "  <th>No. Observations:</th>      <td>   136</td>      <th>  AIC:               </th> <td>   195.9</td>\n",
        "</tr>\n",
        "<tr>\n",
        "  <th>Df Residuals:</th>          <td>   134</td>      <th>  BIC:               </th> <td>   201.7</td>\n",
        "</tr>\n",
        "<tr>\n",
        "  <th>Df Model:</th>              <td>     1</td>      <th>                     </th>     <td> </td>   \n",
        "</tr>\n",
        "</table>\n",
        "<table class=\"simpletable\">\n",
        "<tr>\n",
        "      <td></td>         <th>coef</th>     <th>std err</th>      <th>t</th>      <th>P>|t|</th> <th>[95.0% Conf. Int.]</th> \n",
        "</tr>\n",
        "<tr>\n",
        "  <th>Intercept</th> <td>   -1.9249</td> <td>    0.229</td> <td>   -8.397</td> <td> 0.000</td> <td>   -2.378    -1.472</td>\n",
        "</tr>\n",
        "<tr>\n",
        "  <th>waiting</th>   <td>    0.0764</td> <td>    0.003</td> <td>   24.182</td> <td> 0.000</td> <td>    0.070     0.083</td>\n",
        "</tr>\n",
        "</table>\n",
        "<table class=\"simpletable\">\n",
        "<tr>\n",
        "  <th>Omnibus:</th>       <td> 2.318</td> <th>  Durbin-Watson:     </th> <td>   1.995</td>\n",
        "</tr>\n",
        "<tr>\n",
        "  <th>Prob(Omnibus):</th> <td> 0.314</td> <th>  Jarque-Bera (JB):  </th> <td>   2.305</td>\n",
        "</tr>\n",
        "<tr>\n",
        "  <th>Skew:</th>          <td>-0.310</td> <th>  Prob(JB):          </th> <td>   0.316</td>\n",
        "</tr>\n",
        "<tr>\n",
        "  <th>Kurtosis:</th>      <td> 2.850</td> <th>  Cond. No.          </th> <td>    393.</td>\n",
        "</tr>\n",
        "</table>"
       ],
       "output_type": "pyout",
       "prompt_number": 55,
       "text": [
        "<class 'statsmodels.iolib.summary.Summary'>\n",
        "\"\"\"\n",
        "                            OLS Regression Results                            \n",
        "==============================================================================\n",
        "Dep. Variable:              eruptions   R-squared:                       0.814\n",
        "Model:                            OLS   Adj. R-squared:                  0.812\n",
        "Method:                 Least Squares   F-statistic:                     584.8\n",
        "Date:                Thu, 28 Feb 2013   Prob (F-statistic):           1.02e-50\n",
        "Time:                        22:56:59   Log-Likelihood:                -95.927\n",
        "No. Observations:                 136   AIC:                             195.9\n",
        "Df Residuals:                     134   BIC:                             201.7\n",
        "Df Model:                           1                                         \n",
        "==============================================================================\n",
        "                 coef    std err          t      P>|t|      [95.0% Conf. Int.]\n",
        "------------------------------------------------------------------------------\n",
        "Intercept     -1.9249      0.229     -8.397      0.000        -2.378    -1.472\n",
        "waiting        0.0764      0.003     24.182      0.000         0.070     0.083\n",
        "==============================================================================\n",
        "Omnibus:                        2.318   Durbin-Watson:                   1.995\n",
        "Prob(Omnibus):                  0.314   Jarque-Bera (JB):                2.305\n",
        "Skew:                          -0.310   Prob(JB):                        0.316\n",
        "Kurtosis:                       2.850   Cond. No.                         393.\n",
        "==============================================================================\n",
        "\"\"\""
       ]
      }
     ],
     "prompt_number": 55
    },
    {
     "cell_type": "code",
     "collapsed": false,
     "input": [
      "plot(trainFaith['waiting'], trainFaith['eruptions'], 'o')\n",
      "plot(trainFaith['waiting'], lm1.fittedvalues, 'k', linewidth=3)\n",
      "xlabel('Waiting')\n",
      "ylabel('Duration');"
     ],
     "language": "python",
     "metadata": {},
     "outputs": [
      {
       "output_type": "display_data",
       "png": "[encoded data removed]"
      }
     ],
     "prompt_number": 56
    },
    {
     "cell_type": "code",
     "collapsed": false,
     "input": [
      "print lm1.params['Intercept'] + lm1.params['waiting'] * 80"
     ],
     "language": "python",
     "metadata": {},
     "outputs": [
      {
       "output_type": "stream",
       "stream": "stdout",
       "text": [
        "4.18615649492\n"
       ]
      }
     ],
     "prompt_number": 85
    },
    {
     "cell_type": "code",
     "collapsed": false,
     "input": [
      "print lm1.predict({'waiting' : [80]})"
     ],
     "language": "python",
     "metadata": {},
     "outputs": [
      {
       "output_type": "stream",
       "stream": "stdout",
       "text": [
        "[ 4.18615649]\n"
       ]
      }
     ],
     "prompt_number": 88
    },
    {
     "cell_type": "code",
     "collapsed": false,
     "input": [
      "f, (ax1, ax2) = subplots(ncols=2)\n",
      "\n",
      "ax1.plot(trainFaith['waiting'], trainFaith['eruptions'], 'o')\n",
      "ax1.plot(trainFaith['waiting'], lm1.predict({'waiting' : trainFaith['waiting'].values}), 'k')\n",
      "ax1.set_xlabel('Waiting')\n",
      "ax1.set_ylabel('Duration')\n",
      "\n",
      "ax2.plot(testFaith['waiting'], testFaith['eruptions'], 'o')\n",
      "ax2.plot(testFaith['waiting'], lm1.predict({'waiting' : testFaith['waiting'].values}), 'k')\n",
      "ax2.set_xlabel('Waiting')\n",
      "ax2.set_ylabel('Duration')\n",
      "\n",
      "f.set_size_inches(8,3)\n",
      "f.tight_layout();"
     ],
     "language": "python",
     "metadata": {},
     "outputs": [
      {
       "output_type": "display_data",
       "png": "[encoded data removed]"
      }
     ],
     "prompt_number": 77
    },
    {
     "cell_type": "code",
     "collapsed": false,
     "input": [
      "# calculate RMSE on training\n",
      "print sqrt(sum((lm1.fittedvalues - trainFaith['eruptions']) ** 2))"
     ],
     "language": "python",
     "metadata": {},
     "outputs": [
      {
       "output_type": "stream",
       "stream": "stdout",
       "text": [
        "5.71292527997\n"
       ]
      }
     ],
     "prompt_number": 84
    },
    {
     "cell_type": "code",
     "collapsed": false,
     "input": [
      "# calculate RMSE on test\n",
      "print sqrt(sum((lm1.predict({'waiting' : testFaith['waiting'].values}) - testFaith['eruptions']) ** 2))"
     ],
     "language": "python",
     "metadata": {},
     "outputs": [
      {
       "output_type": "stream",
       "stream": "stdout",
       "text": [
        "5.82715154245\n"
       ]
      }
     ],
     "prompt_number": 83
    },
    {
     "cell_type": "code",
     "collapsed": false,
     "input": [
      "# no prediction interval"
     ],
     "language": "python",
     "metadata": {},
     "outputs": [],
     "prompt_number": 89
    },
    {
     "cell_type": "code",
     "collapsed": false,
     "input": [
      "ravensData = pd.read_csv('../data/ravensData.csv')\n",
      "ravensData.head(6)"
     ],
     "language": "python",
     "metadata": {},
     "outputs": [
      {
       "html": [
        "<div style=\"max-height:1000px;max-width:1500px;overflow:auto;\">\n",
        "<table border=\"1\" class=\"dataframe\">\n",
        "  <thead>\n",
        "    <tr style=\"text-align: right;\">\n",
        "      <th></th>\n",
        "      <th>ravenWinNum</th>\n",
        "      <th>ravenWin</th>\n",
        "      <th>ravenScore</th>\n",
        "      <th>opponentScore</th>\n",
        "    </tr>\n",
        "  </thead>\n",
        "  <tbody>\n",
        "    <tr>\n",
        "      <td><strong>0</strong></td>\n",
        "      <td> 1</td>\n",
        "      <td> W</td>\n",
        "      <td> 24</td>\n",
        "      <td>  9</td>\n",
        "    </tr>\n",
        "    <tr>\n",
        "      <td><strong>1</strong></td>\n",
        "      <td> 1</td>\n",
        "      <td> W</td>\n",
        "      <td> 38</td>\n",
        "      <td> 35</td>\n",
        "    </tr>\n",
        "    <tr>\n",
        "      <td><strong>2</strong></td>\n",
        "      <td> 1</td>\n",
        "      <td> W</td>\n",
        "      <td> 28</td>\n",
        "      <td> 13</td>\n",
        "    </tr>\n",
        "    <tr>\n",
        "      <td><strong>3</strong></td>\n",
        "      <td> 1</td>\n",
        "      <td> W</td>\n",
        "      <td> 34</td>\n",
        "      <td> 31</td>\n",
        "    </tr>\n",
        "    <tr>\n",
        "      <td><strong>4</strong></td>\n",
        "      <td> 1</td>\n",
        "      <td> W</td>\n",
        "      <td> 44</td>\n",
        "      <td> 13</td>\n",
        "    </tr>\n",
        "    <tr>\n",
        "      <td><strong>5</strong></td>\n",
        "      <td> 0</td>\n",
        "      <td> L</td>\n",
        "      <td> 23</td>\n",
        "      <td> 24</td>\n",
        "    </tr>\n",
        "  </tbody>\n",
        "</table>\n",
        "</div>"
       ],
       "output_type": "pyout",
       "prompt_number": 102,
       "text": [
        "   ravenWinNum ravenWin  ravenScore  opponentScore\n",
        "0            1        W          24              9\n",
        "1            1        W          38             35\n",
        "2            1        W          28             13\n",
        "3            1        W          34             31\n",
        "4            1        W          44             13\n",
        "5            0        L          23             24"
       ]
      }
     ],
     "prompt_number": 102
    },
    {
     "cell_type": "code",
     "collapsed": false,
     "input": [
      "from statsmodels.formula.api import glm\n",
      "from statsmodels.api import families as f\n",
      "\n",
      "glm1 = glm('ravenWinNum ~ ravenScore', ravensData, family=f.Binomial()).fit()"
     ],
     "language": "python",
     "metadata": {},
     "outputs": [],
     "prompt_number": 105
    },
    {
     "cell_type": "code",
     "collapsed": false,
     "input": [
      "df = pd.DataFrame({'pred' : glm1.predict(), 'ravenWinNum' : ravensData['ravenWinNum'].values})\n",
      "\n",
      "df.boxplot(by='ravenWinNum');"
     ],
     "language": "python",
     "metadata": {},
     "outputs": [
      {
       "output_type": "display_data",
       "png": "[encoded data removed]"
      }
     ],
     "prompt_number": 119
    },
    {
     "cell_type": "code",
     "collapsed": false,
     "input": [
      "xx = np.linspace(0, 1, num=10)\n",
      "\n",
      "err = [sum( (df['pred'] > x) != df['ravenWinNum'] ) for x in xx]\n",
      "\n",
      "plot(xx, err, 'ok')\n",
      "xlabel('Cutoff')\n",
      "ylabel('Error');"
     ],
     "language": "python",
     "metadata": {},
     "outputs": [
      {
       "output_type": "display_data",
       "png": "[encoded data removed]"
      }
     ],
     "prompt_number": 132
    },
    {
     "cell_type": "code",
     "collapsed": false,
     "input": [
      "def cost(win, pred=0):\n",
      "    return np.mean(np.abs(win - pred) > 0.5)"
     ],
     "language": "python",
     "metadata": {},
     "outputs": [],
     "prompt_number": 138
    },
    {
     "cell_type": "code",
     "collapsed": false,
     "input": [
      "# ???? is this correct?\n",
      "\n",
      "from sklearn.cross_validation import KFold\n",
      "\n",
      "kf = KFold(len(ravensData), n_folds=3, indices=False)\n",
      "\n",
      "cv1train = []\n",
      "cv1test = []\n",
      "cv2train = []\n",
      "cv2test = []\n",
      "\n",
      "for train, test in kf:\n",
      "    glm1 = glm('ravenWinNum ~ ravenScore', ravensData[train], family=f.Binomial()).fit()\n",
      "    glm2 = glm('ravenWinNum ~ ravenScore', ravensData[train], family=f.Gaussian()).fit()\n",
      "    \n",
      "    cv1train.append( cost(ravensData[train]['ravenWinNum'], glm1.predict()) )\n",
      "    cv2train.append( cost(ravensData[train]['ravenWinNum'], glm2.predict()) )\n",
      "    \n",
      "    cv1test.append( cost(ravensData[test]['ravenWinNum'], glm1.predict(ravensData[test])) )\n",
      "    cv2test.append( cost(ravensData[test]['ravenWinNum'], glm2.predict(ravensData[test])) )"
     ],
     "language": "python",
     "metadata": {},
     "outputs": [],
     "prompt_number": 161
    },
    {
     "cell_type": "code",
     "collapsed": false,
     "input": [
      "zip( cv1train, cv1test )"
     ],
     "language": "python",
     "metadata": {},
     "outputs": [
      {
       "output_type": "pyout",
       "prompt_number": 176,
       "text": [
        "[(0.42857142857142855, 0.16666666666666666),\n",
        " (0.2857142857142857, 0.16666666666666666),\n",
        " (0.25, 0.5)]"
       ]
      }
     ],
     "prompt_number": 176
    },
    {
     "cell_type": "code",
     "collapsed": false,
     "input": [
      "np.mean(cv2train), np.mean(cv2test)"
     ],
     "language": "python",
     "metadata": {},
     "outputs": [
      {
       "output_type": "pyout",
       "prompt_number": 163,
       "text": [
        "(0.29365079365079361, 0.27777777777777773)"
       ]
      }
     ],
     "prompt_number": 163
    },
    {
     "cell_type": "code",
     "collapsed": false,
     "input": [],
     "language": "python",
     "metadata": {},
     "outputs": []
    }
   ],
   "metadata": {}
  }
 ]
}