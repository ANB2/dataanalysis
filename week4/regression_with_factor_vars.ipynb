{
 "metadata": {
  "name": "regression_with_factor_vars"
 },
 "nbformat": 3,
 "nbformat_minor": 0,
 "worksheets": [
  {
   "cells": [
    {
     "cell_type": "code",
     "collapsed": false,
     "input": [
      "import pandas as pd\n",
      "\n",
      "movies = pd.read_csv('http://www.rossmanchance.com/iscam2/data/movies03RT.txt', sep='\\t', \n",
      "                      names=['X', 'score', 'rating', 'genre', 'box_office', 'running_time'], skiprows=1)"
     ],
     "language": "python",
     "metadata": {},
     "outputs": [],
     "prompt_number": 126
    },
    {
     "cell_type": "code",
     "collapsed": false,
     "input": [
      "movies.head()"
     ],
     "language": "python",
     "metadata": {},
     "outputs": [
      {
       "html": [
        "<div style=\"max-height:1000px;max-width:1500px;overflow:auto;\">\n",
        "<table border=\"1\" class=\"dataframe\">\n",
        "  <thead>\n",
        "    <tr style=\"text-align: right;\">\n",
        "      <th></th>\n",
        "      <th>X</th>\n",
        "      <th>score</th>\n",
        "      <th>rating</th>\n",
        "      <th>genre</th>\n",
        "      <th>box_office</th>\n",
        "      <th>running_time</th>\n",
        "    </tr>\n",
        "  </thead>\n",
        "  <tbody>\n",
        "    <tr>\n",
        "      <td><strong>0</strong></td>\n",
        "      <td> 2 Fast 2 Furious</td>\n",
        "      <td> 48.9</td>\n",
        "      <td> PG-13</td>\n",
        "      <td> action/adventure</td>\n",
        "      <td> 127.146</td>\n",
        "      <td> 107</td>\n",
        "    </tr>\n",
        "    <tr>\n",
        "      <td><strong>1</strong></td>\n",
        "      <td>    28 Days Later</td>\n",
        "      <td> 78.2</td>\n",
        "      <td>     R</td>\n",
        "      <td>           horror</td>\n",
        "      <td>  45.065</td>\n",
        "      <td> 113</td>\n",
        "    </tr>\n",
        "    <tr>\n",
        "      <td><strong>2</strong></td>\n",
        "      <td>      A Guy Thing</td>\n",
        "      <td> 39.5</td>\n",
        "      <td> PG-13</td>\n",
        "      <td>       rom comedy</td>\n",
        "      <td>  15.545</td>\n",
        "      <td> 101</td>\n",
        "    </tr>\n",
        "    <tr>\n",
        "      <td><strong>3</strong></td>\n",
        "      <td>      A Man Apart</td>\n",
        "      <td> 42.9</td>\n",
        "      <td>     R</td>\n",
        "      <td> action/adventure</td>\n",
        "      <td>  26.248</td>\n",
        "      <td> 110</td>\n",
        "    </tr>\n",
        "    <tr>\n",
        "      <td><strong>4</strong></td>\n",
        "      <td>    A Mighty Wind</td>\n",
        "      <td> 79.9</td>\n",
        "      <td> PG-13</td>\n",
        "      <td>           comedy</td>\n",
        "      <td>  17.781</td>\n",
        "      <td>  91</td>\n",
        "    </tr>\n",
        "  </tbody>\n",
        "</table>\n",
        "</div>"
       ],
       "output_type": "pyout",
       "prompt_number": 127,
       "text": [
        "                  X  score rating             genre  box_office  running_time\n",
        "0  2 Fast 2 Furious   48.9  PG-13  action/adventure     127.146           107\n",
        "1     28 Days Later   78.2      R            horror      45.065           113\n",
        "2       A Guy Thing   39.5  PG-13        rom comedy      15.545           101\n",
        "3       A Man Apart   42.9      R  action/adventure      26.248           110\n",
        "4     A Mighty Wind   79.9  PG-13            comedy      17.781            91"
       ]
      }
     ],
     "prompt_number": 127
    },
    {
     "cell_type": "code",
     "collapsed": false,
     "input": [
      "def jitter(series, factor):\n",
      "    z = float(series.max()) - float(series.min())\n",
      "    a = float(factor) * z / 50.\n",
      "    return map(lambda x: x + np.random.uniform(-a, a), series)"
     ],
     "language": "python",
     "metadata": {},
     "outputs": [],
     "prompt_number": 128
    },
    {
     "cell_type": "code",
     "collapsed": false,
     "input": [
      "r = pd.Categorical.from_array(movies['rating'])\n",
      "plot(jitter(r.labels, 2.), movies['score'], 'ob')\n",
      "xticks(np.unique(r.labels), r.levels)\n",
      "xlabel('rating')\n",
      "ylabel('score')\n",
      "\n",
      "meanRatings = movies.groupby('rating')['score'].mean()\n",
      "\n",
      "plot(range(4), meanRatings, 'sr', markersize=10);"
     ],
     "language": "python",
     "metadata": {},
     "outputs": [
      {
       "output_type": "display_data",
       "png": "[encoded data removed]"
      }
     ],
     "prompt_number": 129
    },
    {
     "cell_type": "code",
     "collapsed": false,
     "input": [
      "from statsmodels.formula.api import ols\n",
      "\n",
      "lm1 = ols('score ~ rating', movies).fit()\n",
      "\n",
      "lm1.summary()"
     ],
     "language": "python",
     "metadata": {},
     "outputs": [
      {
       "html": [
        "<table class=\"simpletable\">\n",
        "<caption>OLS Regression Results</caption>\n",
        "<tr>\n",
        "  <th>Dep. Variable:</th>          <td>score</td>      <th>  R-squared:         </th> <td>   0.020</td>\n",
        "</tr>\n",
        "<tr>\n",
        "  <th>Model:</th>                   <td>OLS</td>       <th>  Adj. R-squared:    </th> <td>  -0.002</td>\n",
        "</tr>\n",
        "<tr>\n",
        "  <th>Method:</th>             <td>Least Squares</td>  <th>  F-statistic:       </th> <td>  0.9182</td>\n",
        "</tr>\n",
        "<tr>\n",
        "  <th>Date:</th>             <td>Tue, 12 Feb 2013</td> <th>  Prob (F-statistic):</th>  <td> 0.434</td> \n",
        "</tr>\n",
        "<tr>\n",
        "  <th>Time:</th>                 <td>20:56:54</td>     <th>  Log-Likelihood:    </th> <td> -569.90</td>\n",
        "</tr>\n",
        "<tr>\n",
        "  <th>No. Observations:</th>      <td>   140</td>      <th>  AIC:               </th> <td>   1148.</td>\n",
        "</tr>\n",
        "<tr>\n",
        "  <th>Df Residuals:</th>          <td>   136</td>      <th>  BIC:               </th> <td>   1160.</td>\n",
        "</tr>\n",
        "<tr>\n",
        "  <th>Df Model:</th>              <td>     3</td>      <th>                     </th>     <td> </td>   \n",
        "</tr>\n",
        "</table>\n",
        "<table class=\"simpletable\">\n",
        "<tr>\n",
        "         <td></td>            <th>coef</th>     <th>std err</th>      <th>t</th>      <th>P>|t|</th> <th>[95.0% Conf. Int.]</th> \n",
        "</tr>\n",
        "<tr>\n",
        "  <th>Intercept</th>       <td>   67.6500</td> <td>    7.193</td> <td>    9.405</td> <td> 0.000</td> <td>   53.425    81.875</td>\n",
        "</tr>\n",
        "<tr>\n",
        "  <th>rating[T.PG]</th>    <td>  -12.5929</td> <td>    7.849</td> <td>   -1.604</td> <td> 0.111</td> <td>  -28.114     2.928</td>\n",
        "</tr>\n",
        "<tr>\n",
        "  <th>rating[T.PG-13]</th> <td>  -11.8146</td> <td>    7.411</td> <td>   -1.594</td> <td> 0.113</td> <td>  -26.471     2.842</td>\n",
        "</tr>\n",
        "<tr>\n",
        "  <th>rating[T.R]</th>     <td>  -12.0200</td> <td>    7.476</td> <td>   -1.608</td> <td> 0.110</td> <td>  -26.803     2.763</td>\n",
        "</tr>\n",
        "</table>\n",
        "<table class=\"simpletable\">\n",
        "<tr>\n",
        "  <th>Omnibus:</th>       <td> 3.313</td> <th>  Durbin-Watson:     </th> <td>   2.100</td>\n",
        "</tr>\n",
        "<tr>\n",
        "  <th>Prob(Omnibus):</th> <td> 0.191</td> <th>  Jarque-Bera (JB):  </th> <td>   3.327</td>\n",
        "</tr>\n",
        "<tr>\n",
        "  <th>Skew:</th>          <td> 0.367</td> <th>  Prob(JB):          </th> <td>   0.189</td>\n",
        "</tr>\n",
        "<tr>\n",
        "  <th>Kurtosis:</th>      <td> 2.821</td> <th>  Cond. No.          </th> <td>    14.0</td>\n",
        "</tr>\n",
        "</table>"
       ],
       "output_type": "pyout",
       "prompt_number": 138,
       "text": [
        "<class 'statsmodels.iolib.summary.Summary'>\n",
        "\"\"\"\n",
        "                            OLS Regression Results                            \n",
        "==============================================================================\n",
        "Dep. Variable:                  score   R-squared:                       0.020\n",
        "Model:                            OLS   Adj. R-squared:                 -0.002\n",
        "Method:                 Least Squares   F-statistic:                    0.9182\n",
        "Date:                Tue, 12 Feb 2013   Prob (F-statistic):              0.434\n",
        "Time:                        20:56:54   Log-Likelihood:                -569.90\n",
        "No. Observations:                 140   AIC:                             1148.\n",
        "Df Residuals:                     136   BIC:                             1160.\n",
        "Df Model:                           3                                         \n",
        "===================================================================================\n",
        "                      coef    std err          t      P>|t|      [95.0% Conf. Int.]\n",
        "-----------------------------------------------------------------------------------\n",
        "Intercept          67.6500      7.193      9.405      0.000        53.425    81.875\n",
        "rating[T.PG]      -12.5929      7.849     -1.604      0.111       -28.114     2.928\n",
        "rating[T.PG-13]   -11.8146      7.411     -1.594      0.113       -26.471     2.842\n",
        "rating[T.R]       -12.0200      7.476     -1.608      0.110       -26.803     2.763\n",
        "==============================================================================\n",
        "Omnibus:                        3.313   Durbin-Watson:                   2.100\n",
        "Prob(Omnibus):                  0.191   Jarque-Bera (JB):                3.327\n",
        "Skew:                           0.367   Prob(JB):                        0.189\n",
        "Kurtosis:                       2.821   Cond. No.                         14.0\n",
        "==============================================================================\n",
        "\"\"\""
       ]
      }
     ],
     "prompt_number": 138
    },
    {
     "cell_type": "code",
     "collapsed": false,
     "input": [
      "plot(jitter(r.labels, 2.), movies['score'], 'ob')\n",
      "xticks(np.unique(r.labels), r.levels)\n",
      "xlabel('rating')\n",
      "ylabel('score')\n",
      "\n",
      "plot(range(4), lm1.params[0] + np.append(0, lm1.params[1:]), 'sr', markersize=10);"
     ],
     "language": "python",
     "metadata": {},
     "outputs": [
      {
       "output_type": "display_data",
       "png": "[encoded data removed]"
      }
     ],
     "prompt_number": 131
    },
    {
     "cell_type": "code",
     "collapsed": false,
     "input": [
      "lm1.conf_int()"
     ],
     "language": "python",
     "metadata": {},
     "outputs": [
      {
       "output_type": "pyout",
       "prompt_number": 132,
       "text": [
        "array([[ 53.42477777,  81.87522223],\n",
        "       [-28.11384706,   2.92813278],\n",
        "       [-26.47100249,   2.84177172],\n",
        "       [-26.80328459,   2.76328459]])"
       ]
      }
     ],
     "prompt_number": 132
    },
    {
     "cell_type": "code",
     "collapsed": false,
     "input": [
      "# how to change the column order?"
     ],
     "language": "python",
     "metadata": {},
     "outputs": [],
     "prompt_number": 134
    },
    {
     "cell_type": "code",
     "collapsed": false,
     "input": [
      "from statsmodels.stats.anova import anova_lm\n",
      "\n",
      "anova_lm(lm1)"
     ],
     "language": "python",
     "metadata": {},
     "outputs": [
      {
       "html": [
        "<div style=\"max-height:1000px;max-width:1500px;overflow:auto;\">\n",
        "<table border=\"1\" class=\"dataframe\">\n",
        "  <thead>\n",
        "    <tr style=\"text-align: right;\">\n",
        "      <th></th>\n",
        "      <th>df</th>\n",
        "      <th>sum_sq</th>\n",
        "      <th>mean_sq</th>\n",
        "      <th>F</th>\n",
        "      <th>PR(>F)</th>\n",
        "    </tr>\n",
        "  </thead>\n",
        "  <tbody>\n",
        "    <tr>\n",
        "      <td><strong>rating</strong></td>\n",
        "      <td>   3</td>\n",
        "      <td>   570.123813</td>\n",
        "      <td> 190.041271</td>\n",
        "      <td> 0.918184</td>\n",
        "      <td> 0.433975</td>\n",
        "    </tr>\n",
        "    <tr>\n",
        "      <td><strong>Residual</strong></td>\n",
        "      <td> 136</td>\n",
        "      <td> 28148.635044</td>\n",
        "      <td> 206.975258</td>\n",
        "      <td>      NaN</td>\n",
        "      <td>      NaN</td>\n",
        "    </tr>\n",
        "  </tbody>\n",
        "</table>\n",
        "</div>"
       ],
       "output_type": "pyout",
       "prompt_number": 139,
       "text": [
        "           df        sum_sq     mean_sq         F    PR(>F)\n",
        "rating      3    570.123813  190.041271  0.918184  0.433975\n",
        "Residual  136  28148.635044  206.975258       NaN       NaN"
       ]
      }
     ],
     "prompt_number": 139
    },
    {
     "cell_type": "code",
     "collapsed": false,
     "input": [
      "from statsmodels.stats.multicomp import tukeyhsd\n",
      "import statsmodels.sandbox.stats.multicomp as multi\n",
      "\n",
      "mc = multi.MultiComparison(movies['score'], r.labels)\n",
      "res = mc.tukeyhsd() \n",
      "\n",
      "print res[0]\n",
      "print zip(list(r.levels), range(4))"
     ],
     "language": "python",
     "metadata": {},
     "outputs": [
      {
       "output_type": "stream",
       "stream": "stdout",
       "text": [
        "Multiple Comparison of Means - Tukey HSD, FWER=0.05\n",
        "==============================================\n",
        "group1 group2 meandiff  lower    upper  reject\n",
        "----------------------------------------------\n",
        "  0      1    -12.5929 -33.0089  7.8232 False \n",
        "  0      2    -11.8146 -31.0934  7.4642 False \n",
        "  0      3     -12.02  -31.4657  7.4257 False \n",
        "  1      2     0.7782  -8.6152  10.1717 False \n",
        "  1      3     0.5729  -9.1586  10.3043 False \n",
        "  2      3    -0.2054   -7.245   6.8342 False \n",
        "----------------------------------------------\n",
        "[('G', 0), ('PG', 1), ('PG-13', 2), ('R', 3)]\n"
       ]
      }
     ],
     "prompt_number": 165
    },
    {
     "cell_type": "code",
     "collapsed": false,
     "input": [],
     "language": "python",
     "metadata": {},
     "outputs": []
    }
   ],
   "metadata": {}
  }
 ]
}