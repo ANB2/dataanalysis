{
 "metadata": {
  "name": "wk4_quiz"
 },
 "nbformat": 3,
 "nbformat_minor": 0,
 "worksheets": [
  {
   "cells": [
    {
     "cell_type": "code",
     "collapsed": false,
     "input": [
      "import pandas as pd"
     ],
     "language": "python",
     "metadata": {},
     "outputs": [],
     "prompt_number": 1
    },
    {
     "cell_type": "code",
     "collapsed": false,
     "input": [
      "movies = pd.read_csv('https://spark-public.s3.amazonaws.com/dataanalysis/movies.txt', sep='\\t')\n",
      "movies.columns = ['title', 'score', 'rating', 'genre', 'box_office', 'running_time']"
     ],
     "language": "python",
     "metadata": {},
     "outputs": [],
     "prompt_number": 7
    },
    {
     "cell_type": "code",
     "collapsed": false,
     "input": [
      "movies"
     ],
     "language": "python",
     "metadata": {},
     "outputs": [
      {
       "output_type": "pyout",
       "prompt_number": 26,
       "text": [
        "<class 'pandas.core.frame.DataFrame'>\n",
        "Int64Index: 140 entries, 0 to 139\n",
        "Data columns:\n",
        "title           140  non-null values\n",
        "score           140  non-null values\n",
        "rating          140  non-null values\n",
        "genre           140  non-null values\n",
        "box_office      140  non-null values\n",
        "running_time    140  non-null values\n",
        "dtypes: float64(2), int64(1), object(3)"
       ]
      }
     ],
     "prompt_number": 26
    },
    {
     "cell_type": "code",
     "collapsed": false,
     "input": [
      "from statsmodels.formula.api import ols\n",
      "\n",
      "lm = ols('score ~ box_office', movies).fit()\n",
      "lm.summary()"
     ],
     "language": "python",
     "metadata": {},
     "outputs": [
      {
       "html": [
        "<table class=\"simpletable\">\n",
        "<caption>OLS Regression Results</caption>\n",
        "<tr>\n",
        "  <th>Dep. Variable:</th>          <td>score</td>      <th>  R-squared:         </th> <td>   0.180</td>\n",
        "</tr>\n",
        "<tr>\n",
        "  <th>Model:</th>                   <td>OLS</td>       <th>  Adj. R-squared:    </th> <td>   0.174</td>\n",
        "</tr>\n",
        "<tr>\n",
        "  <th>Method:</th>             <td>Least Squares</td>  <th>  F-statistic:       </th> <td>   30.24</td>\n",
        "</tr>\n",
        "<tr>\n",
        "  <th>Date:</th>             <td>Thu, 14 Feb 2013</td> <th>  Prob (F-statistic):</th> <td>1.80e-07</td>\n",
        "</tr>\n",
        "<tr>\n",
        "  <th>Time:</th>                 <td>01:38:01</td>     <th>  Log-Likelihood:    </th> <td> -557.44</td>\n",
        "</tr>\n",
        "<tr>\n",
        "  <th>No. Observations:</th>      <td>   140</td>      <th>  AIC:               </th> <td>   1119.</td>\n",
        "</tr>\n",
        "<tr>\n",
        "  <th>Df Residuals:</th>          <td>   138</td>      <th>  BIC:               </th> <td>   1125.</td>\n",
        "</tr>\n",
        "<tr>\n",
        "  <th>Df Model:</th>              <td>     1</td>      <th>                     </th>     <td> </td>   \n",
        "</tr>\n",
        "</table>\n",
        "<table class=\"simpletable\">\n",
        "<tr>\n",
        "       <td></td>         <th>coef</th>     <th>std err</th>      <th>t</th>      <th>P>|t|</th> <th>[95.0% Conf. Int.]</th> \n",
        "</tr>\n",
        "<tr>\n",
        "  <th>Intercept</th>  <td>   50.0756</td> <td>    1.541</td> <td>   32.504</td> <td> 0.000</td> <td>   47.029    53.122</td>\n",
        "</tr>\n",
        "<tr>\n",
        "  <th>box_office</th> <td>    0.0968</td> <td>    0.018</td> <td>    5.499</td> <td> 0.000</td> <td>    0.062     0.132</td>\n",
        "</tr>\n",
        "</table>\n",
        "<table class=\"simpletable\">\n",
        "<tr>\n",
        "  <th>Omnibus:</th>       <td> 3.202</td> <th>  Durbin-Watson:     </th> <td>   2.162</td>\n",
        "</tr>\n",
        "<tr>\n",
        "  <th>Prob(Omnibus):</th> <td> 0.202</td> <th>  Jarque-Bera (JB):  </th> <td>   3.136</td>\n",
        "</tr>\n",
        "<tr>\n",
        "  <th>Skew:</th>          <td> 0.363</td> <th>  Prob(JB):          </th> <td>   0.208</td>\n",
        "</tr>\n",
        "<tr>\n",
        "  <th>Kurtosis:</th>      <td> 2.899</td> <th>  Cond. No.          </th> <td>    122.</td>\n",
        "</tr>\n",
        "</table>"
       ],
       "output_type": "pyout",
       "prompt_number": 72,
       "text": [
        "<class 'statsmodels.iolib.summary.Summary'>\n",
        "\"\"\"\n",
        "                            OLS Regression Results                            \n",
        "==============================================================================\n",
        "Dep. Variable:                  score   R-squared:                       0.180\n",
        "Model:                            OLS   Adj. R-squared:                  0.174\n",
        "Method:                 Least Squares   F-statistic:                     30.24\n",
        "Date:                Thu, 14 Feb 2013   Prob (F-statistic):           1.80e-07\n",
        "Time:                        01:38:01   Log-Likelihood:                -557.44\n",
        "No. Observations:                 140   AIC:                             1119.\n",
        "Df Residuals:                     138   BIC:                             1125.\n",
        "Df Model:                           1                                         \n",
        "==============================================================================\n",
        "                 coef    std err          t      P>|t|      [95.0% Conf. Int.]\n",
        "------------------------------------------------------------------------------\n",
        "Intercept     50.0756      1.541     32.504      0.000        47.029    53.122\n",
        "box_office     0.0968      0.018      5.499      0.000         0.062     0.132\n",
        "==============================================================================\n",
        "Omnibus:                        3.202   Durbin-Watson:                   2.162\n",
        "Prob(Omnibus):                  0.202   Jarque-Bera (JB):                3.136\n",
        "Skew:                           0.363   Prob(JB):                        0.208\n",
        "Kurtosis:                       2.899   Cond. No.                         122.\n",
        "==============================================================================\n",
        "\"\"\""
       ]
      }
     ],
     "prompt_number": 72
    },
    {
     "cell_type": "code",
     "collapsed": false,
     "input": [
      "lm.params['box_office']"
     ],
     "language": "python",
     "metadata": {},
     "outputs": [
      {
       "output_type": "pyout",
       "prompt_number": 71,
       "text": [
        "0.082394666323904603"
       ]
      }
     ],
     "prompt_number": 71
    },
    {
     "cell_type": "code",
     "collapsed": false,
     "input": [
      "# 90% confidence interval\n",
      "lm.conf_int(alpha=0.1)"
     ],
     "language": "python",
     "metadata": {},
     "outputs": [
      {
       "html": [
        "<div style=\"max-height:1000px;max-width:1500px;overflow:auto;\">\n",
        "<table border=\"1\" class=\"dataframe\">\n",
        "  <thead>\n",
        "    <tr style=\"text-align: right;\">\n",
        "      <th></th>\n",
        "      <th>0</th>\n",
        "      <th>1</th>\n",
        "    </tr>\n",
        "  </thead>\n",
        "  <tbody>\n",
        "    <tr>\n",
        "      <td><strong>Intercept</strong></td>\n",
        "      <td> 47.524383</td>\n",
        "      <td> 52.626789</td>\n",
        "    </tr>\n",
        "    <tr>\n",
        "      <td><strong>box_office</strong></td>\n",
        "      <td>  0.067619</td>\n",
        "      <td>  0.125899</td>\n",
        "    </tr>\n",
        "  </tbody>\n",
        "</table>\n",
        "</div>"
       ],
       "output_type": "pyout",
       "prompt_number": 13,
       "text": [
        "                    0          1\n",
        "Intercept   47.524383  52.626789\n",
        "box_office   0.067619   0.125899"
       ]
      }
     ],
     "prompt_number": 13
    },
    {
     "cell_type": "code",
     "collapsed": false,
     "input": [
      "lm = ols('score ~ box_office + running_time', movies).fit()\n",
      "lm.summary()"
     ],
     "language": "python",
     "metadata": {},
     "outputs": [
      {
       "html": [
        "<table class=\"simpletable\">\n",
        "<caption>OLS Regression Results</caption>\n",
        "<tr>\n",
        "  <th>Dep. Variable:</th>          <td>score</td>      <th>  R-squared:         </th> <td>   0.212</td>\n",
        "</tr>\n",
        "<tr>\n",
        "  <th>Model:</th>                   <td>OLS</td>       <th>  Adj. R-squared:    </th> <td>   0.201</td>\n",
        "</tr>\n",
        "<tr>\n",
        "  <th>Method:</th>             <td>Least Squares</td>  <th>  F-statistic:       </th> <td>   18.46</td>\n",
        "</tr>\n",
        "<tr>\n",
        "  <th>Date:</th>             <td>Thu, 14 Feb 2013</td> <th>  Prob (F-statistic):</th> <td>7.98e-08</td>\n",
        "</tr>\n",
        "<tr>\n",
        "  <th>Time:</th>                 <td>01:38:28</td>     <th>  Log-Likelihood:    </th> <td> -554.61</td>\n",
        "</tr>\n",
        "<tr>\n",
        "  <th>No. Observations:</th>      <td>   140</td>      <th>  AIC:               </th> <td>   1115.</td>\n",
        "</tr>\n",
        "<tr>\n",
        "  <th>Df Residuals:</th>          <td>   137</td>      <th>  BIC:               </th> <td>   1124.</td>\n",
        "</tr>\n",
        "<tr>\n",
        "  <th>Df Model:</th>              <td>     2</td>      <th>                     </th>     <td> </td>   \n",
        "</tr>\n",
        "</table>\n",
        "<table class=\"simpletable\">\n",
        "<tr>\n",
        "        <td></td>          <th>coef</th>     <th>std err</th>      <th>t</th>      <th>P>|t|</th> <th>[95.0% Conf. Int.]</th> \n",
        "</tr>\n",
        "<tr>\n",
        "  <th>Intercept</th>    <td>   37.2364</td> <td>    5.606</td> <td>    6.643</td> <td> 0.000</td> <td>   26.152    48.321</td>\n",
        "</tr>\n",
        "<tr>\n",
        "  <th>box_office</th>   <td>    0.0824</td> <td>    0.018</td> <td>    4.495</td> <td> 0.000</td> <td>    0.046     0.119</td>\n",
        "</tr>\n",
        "<tr>\n",
        "  <th>running_time</th> <td>    0.1275</td> <td>    0.054</td> <td>    2.379</td> <td> 0.019</td> <td>    0.022     0.234</td>\n",
        "</tr>\n",
        "</table>\n",
        "<table class=\"simpletable\">\n",
        "<tr>\n",
        "  <th>Omnibus:</th>       <td> 2.420</td> <th>  Durbin-Watson:     </th> <td>   2.124</td>\n",
        "</tr>\n",
        "<tr>\n",
        "  <th>Prob(Omnibus):</th> <td> 0.298</td> <th>  Jarque-Bera (JB):  </th> <td>   2.230</td>\n",
        "</tr>\n",
        "<tr>\n",
        "  <th>Skew:</th>          <td> 0.309</td> <th>  Prob(JB):          </th> <td>   0.328</td>\n",
        "</tr>\n",
        "<tr>\n",
        "  <th>Kurtosis:</th>      <td> 2.991</td> <th>  Cond. No.          </th> <td>    677.</td>\n",
        "</tr>\n",
        "</table>"
       ],
       "output_type": "pyout",
       "prompt_number": 74,
       "text": [
        "<class 'statsmodels.iolib.summary.Summary'>\n",
        "\"\"\"\n",
        "                            OLS Regression Results                            \n",
        "==============================================================================\n",
        "Dep. Variable:                  score   R-squared:                       0.212\n",
        "Model:                            OLS   Adj. R-squared:                  0.201\n",
        "Method:                 Least Squares   F-statistic:                     18.46\n",
        "Date:                Thu, 14 Feb 2013   Prob (F-statistic):           7.98e-08\n",
        "Time:                        01:38:28   Log-Likelihood:                -554.61\n",
        "No. Observations:                 140   AIC:                             1115.\n",
        "Df Residuals:                     137   BIC:                             1124.\n",
        "Df Model:                           2                                         \n",
        "================================================================================\n",
        "                   coef    std err          t      P>|t|      [95.0% Conf. Int.]\n",
        "--------------------------------------------------------------------------------\n",
        "Intercept       37.2364      5.606      6.643      0.000        26.152    48.321\n",
        "box_office       0.0824      0.018      4.495      0.000         0.046     0.119\n",
        "running_time     0.1275      0.054      2.379      0.019         0.022     0.234\n",
        "==============================================================================\n",
        "Omnibus:                        2.420   Durbin-Watson:                   2.124\n",
        "Prob(Omnibus):                  0.298   Jarque-Bera (JB):                2.230\n",
        "Skew:                           0.309   Prob(JB):                        0.328\n",
        "Kurtosis:                       2.991   Cond. No.                         677.\n",
        "==============================================================================\n",
        "\"\"\""
       ]
      }
     ],
     "prompt_number": 74
    },
    {
     "cell_type": "code",
     "collapsed": false,
     "input": [
      "lm.params['running_time']"
     ],
     "language": "python",
     "metadata": {},
     "outputs": [
      {
       "output_type": "pyout",
       "prompt_number": 75,
       "text": [
        "0.12752390009275671"
       ]
      }
     ],
     "prompt_number": 75
    },
    {
     "cell_type": "code",
     "collapsed": false,
     "input": [
      "# don't know if it's needed...\n",
      "from statsmodels.stats.anova import anova_lm\n",
      "\n",
      "anova_lm(lm)"
     ],
     "language": "python",
     "metadata": {},
     "outputs": [
      {
       "html": [
        "<div style=\"max-height:1000px;max-width:1500px;overflow:auto;\">\n",
        "<table border=\"1\" class=\"dataframe\">\n",
        "  <thead>\n",
        "    <tr style=\"text-align: right;\">\n",
        "      <th></th>\n",
        "      <th>df</th>\n",
        "      <th>sum_sq</th>\n",
        "      <th>mean_sq</th>\n",
        "      <th>F</th>\n",
        "      <th>PR(>F)</th>\n",
        "    </tr>\n",
        "  </thead>\n",
        "  <tbody>\n",
        "    <tr>\n",
        "      <td><strong>box_office</strong></td>\n",
        "      <td>   1</td>\n",
        "      <td>  5161.325590</td>\n",
        "      <td> 5161.325590</td>\n",
        "      <td> 31.256007</td>\n",
        "      <td> 0.000000</td>\n",
        "    </tr>\n",
        "    <tr>\n",
        "      <td><strong>running_time</strong></td>\n",
        "      <td>   1</td>\n",
        "      <td>   934.530387</td>\n",
        "      <td>  934.530387</td>\n",
        "      <td>  5.659338</td>\n",
        "      <td> 0.018742</td>\n",
        "    </tr>\n",
        "    <tr>\n",
        "      <td><strong>Residual</strong></td>\n",
        "      <td> 137</td>\n",
        "      <td> 22622.902880</td>\n",
        "      <td>  165.130678</td>\n",
        "      <td>       NaN</td>\n",
        "      <td>      NaN</td>\n",
        "    </tr>\n",
        "  </tbody>\n",
        "</table>\n",
        "</div>"
       ],
       "output_type": "pyout",
       "prompt_number": 76,
       "text": [
        "               df        sum_sq      mean_sq          F    PR(>F)\n",
        "box_office      1   5161.325590  5161.325590  31.256007  0.000000\n",
        "running_time    1    934.530387   934.530387   5.659338  0.018742\n",
        "Residual      137  22622.902880   165.130678        NaN       NaN"
       ]
      }
     ],
     "prompt_number": 76
    },
    {
     "cell_type": "code",
     "collapsed": false,
     "input": [
      "# are there outliers?\n",
      "plot(movies['running_time'], movies['score'], 'ob');"
     ],
     "language": "python",
     "metadata": {},
     "outputs": [
      {
       "output_type": "display_data",
       "png": "[encoded data removed]"
      }
     ],
     "prompt_number": 77
    },
    {
     "cell_type": "code",
     "collapsed": false,
     "input": [
      "# exclude outliers\n",
      "non_outlier = movies['running_time'] < 180\n",
      "\n",
      "plot(movies['running_time'][non_outlier], movies['score'][non_outlier], 'ob');"
     ],
     "language": "python",
     "metadata": {},
     "outputs": [
      {
       "output_type": "display_data",
       "png": "[encoded data removed]"
      }
     ],
     "prompt_number": 78
    },
    {
     "cell_type": "code",
     "collapsed": false,
     "input": [
      "# redo regression without outliers\n",
      "lm = ols('score ~ box_office + running_time', movies[non_outlier]).fit()\n",
      "lm.summary()"
     ],
     "language": "python",
     "metadata": {},
     "outputs": [
      {
       "html": [
        "<table class=\"simpletable\">\n",
        "<caption>OLS Regression Results</caption>\n",
        "<tr>\n",
        "  <th>Dep. Variable:</th>          <td>score</td>      <th>  R-squared:         </th> <td>   0.204</td>\n",
        "</tr>\n",
        "<tr>\n",
        "  <th>Model:</th>                   <td>OLS</td>       <th>  Adj. R-squared:    </th> <td>   0.193</td>\n",
        "</tr>\n",
        "<tr>\n",
        "  <th>Method:</th>             <td>Least Squares</td>  <th>  F-statistic:       </th> <td>   17.34</td>\n",
        "</tr>\n",
        "<tr>\n",
        "  <th>Date:</th>             <td>Thu, 14 Feb 2013</td> <th>  Prob (F-statistic):</th> <td>1.98e-07</td>\n",
        "</tr>\n",
        "<tr>\n",
        "  <th>Time:</th>                 <td>01:38:48</td>     <th>  Log-Likelihood:    </th> <td> -544.63</td>\n",
        "</tr>\n",
        "<tr>\n",
        "  <th>No. Observations:</th>      <td>   138</td>      <th>  AIC:               </th> <td>   1095.</td>\n",
        "</tr>\n",
        "<tr>\n",
        "  <th>Df Residuals:</th>          <td>   135</td>      <th>  BIC:               </th> <td>   1104.</td>\n",
        "</tr>\n",
        "<tr>\n",
        "  <th>Df Model:</th>              <td>     2</td>      <th>                     </th>     <td> </td>   \n",
        "</tr>\n",
        "</table>\n",
        "<table class=\"simpletable\">\n",
        "<tr>\n",
        "        <td></td>          <th>coef</th>     <th>std err</th>      <th>t</th>      <th>P>|t|</th> <th>[95.0% Conf. Int.]</th> \n",
        "</tr>\n",
        "<tr>\n",
        "  <th>Intercept</th>    <td>   28.3578</td> <td>    6.842</td> <td>    4.145</td> <td> 0.000</td> <td>   14.827    41.888</td>\n",
        "</tr>\n",
        "<tr>\n",
        "  <th>box_office</th>   <td>    0.0722</td> <td>    0.020</td> <td>    3.692</td> <td> 0.000</td> <td>    0.034     0.111</td>\n",
        "</tr>\n",
        "<tr>\n",
        "  <th>running_time</th> <td>    0.2188</td> <td>    0.066</td> <td>    3.311</td> <td> 0.001</td> <td>    0.088     0.349</td>\n",
        "</tr>\n",
        "</table>\n",
        "<table class=\"simpletable\">\n",
        "<tr>\n",
        "  <th>Omnibus:</th>       <td> 2.576</td> <th>  Durbin-Watson:     </th> <td>   2.190</td>\n",
        "</tr>\n",
        "<tr>\n",
        "  <th>Prob(Omnibus):</th> <td> 0.276</td> <th>  Jarque-Bera (JB):  </th> <td>   2.262</td>\n",
        "</tr>\n",
        "<tr>\n",
        "  <th>Skew:</th>          <td> 0.311</td> <th>  Prob(JB):          </th> <td>   0.323</td>\n",
        "</tr>\n",
        "<tr>\n",
        "  <th>Kurtosis:</th>      <td> 3.078</td> <th>  Cond. No.          </th> <td>    807.</td>\n",
        "</tr>\n",
        "</table>"
       ],
       "output_type": "pyout",
       "prompt_number": 79,
       "text": [
        "<class 'statsmodels.iolib.summary.Summary'>\n",
        "\"\"\"\n",
        "                            OLS Regression Results                            \n",
        "==============================================================================\n",
        "Dep. Variable:                  score   R-squared:                       0.204\n",
        "Model:                            OLS   Adj. R-squared:                  0.193\n",
        "Method:                 Least Squares   F-statistic:                     17.34\n",
        "Date:                Thu, 14 Feb 2013   Prob (F-statistic):           1.98e-07\n",
        "Time:                        01:38:48   Log-Likelihood:                -544.63\n",
        "No. Observations:                 138   AIC:                             1095.\n",
        "Df Residuals:                     135   BIC:                             1104.\n",
        "Df Model:                           2                                         \n",
        "================================================================================\n",
        "                   coef    std err          t      P>|t|      [95.0% Conf. Int.]\n",
        "--------------------------------------------------------------------------------\n",
        "Intercept       28.3578      6.842      4.145      0.000        14.827    41.888\n",
        "box_office       0.0722      0.020      3.692      0.000         0.034     0.111\n",
        "running_time     0.2188      0.066      3.311      0.001         0.088     0.349\n",
        "==============================================================================\n",
        "Omnibus:                        2.576   Durbin-Watson:                   2.190\n",
        "Prob(Omnibus):                  0.276   Jarque-Bera (JB):                2.262\n",
        "Skew:                           0.311   Prob(JB):                        0.323\n",
        "Kurtosis:                       3.078   Cond. No.                         807.\n",
        "==============================================================================\n",
        "\"\"\""
       ]
      }
     ],
     "prompt_number": 79
    },
    {
     "cell_type": "code",
     "collapsed": false,
     "input": [
      "lm = ols('score ~ running_time + box_office', movies).fit()\n",
      "lm.pvalues"
     ],
     "language": "python",
     "metadata": {},
     "outputs": [
      {
       "output_type": "pyout",
       "prompt_number": 80,
       "text": [
        "Intercept       6.670335e-10\n",
        "running_time    1.874193e-02\n",
        "box_office      1.467396e-05"
       ]
      }
     ],
     "prompt_number": 80
    },
    {
     "cell_type": "code",
     "collapsed": false,
     "input": [
      "lm = ols('score ~ rating + running_time + running_time * rating', movies).fit()\n",
      "lm.summary()"
     ],
     "language": "python",
     "metadata": {},
     "outputs": [
      {
       "html": [
        "<table class=\"simpletable\">\n",
        "<caption>OLS Regression Results</caption>\n",
        "<tr>\n",
        "  <th>Dep. Variable:</th>          <td>score</td>      <th>  R-squared:         </th> <td>   0.165</td>\n",
        "</tr>\n",
        "<tr>\n",
        "  <th>Model:</th>                   <td>OLS</td>       <th>  Adj. R-squared:    </th> <td>   0.121</td>\n",
        "</tr>\n",
        "<tr>\n",
        "  <th>Method:</th>             <td>Least Squares</td>  <th>  F-statistic:       </th> <td>   3.727</td>\n",
        "</tr>\n",
        "<tr>\n",
        "  <th>Date:</th>             <td>Thu, 14 Feb 2013</td> <th>  Prob (F-statistic):</th>  <td>0.00103</td>\n",
        "</tr>\n",
        "<tr>\n",
        "  <th>Time:</th>                 <td>01:39:30</td>     <th>  Log-Likelihood:    </th> <td> -558.68</td>\n",
        "</tr>\n",
        "<tr>\n",
        "  <th>No. Observations:</th>      <td>   140</td>      <th>  AIC:               </th> <td>   1133.</td>\n",
        "</tr>\n",
        "<tr>\n",
        "  <th>Df Residuals:</th>          <td>   132</td>      <th>  BIC:               </th> <td>   1157.</td>\n",
        "</tr>\n",
        "<tr>\n",
        "  <th>Df Model:</th>              <td>     7</td>      <th>                     </th>     <td> </td>   \n",
        "</tr>\n",
        "</table>\n",
        "<table class=\"simpletable\">\n",
        "<tr>\n",
        "                <td></td>                  <th>coef</th>     <th>std err</th>      <th>t</th>      <th>P>|t|</th> <th>[95.0% Conf. Int.]</th> \n",
        "</tr>\n",
        "<tr>\n",
        "  <th>Intercept</th>                    <td>  -30.4212</td> <td>   51.630</td> <td>   -0.589</td> <td> 0.557</td> <td> -132.550    71.707</td>\n",
        "</tr>\n",
        "<tr>\n",
        "  <th>rating[T.PG]</th>                 <td>   38.2850</td> <td>   58.182</td> <td>    0.658</td> <td> 0.512</td> <td>  -76.804   153.374</td>\n",
        "</tr>\n",
        "<tr>\n",
        "  <th>rating[T.PG-13]</th>              <td>   58.9816</td> <td>   52.233</td> <td>    1.129</td> <td> 0.261</td> <td>  -44.341   162.304</td>\n",
        "</tr>\n",
        "<tr>\n",
        "  <th>rating[T.R]</th>                  <td>   64.4803</td> <td>   52.859</td> <td>    1.220</td> <td> 0.225</td> <td>  -40.080   169.040</td>\n",
        "</tr>\n",
        "<tr>\n",
        "  <th>running_time</th>                 <td>    1.1852</td> <td>    0.619</td> <td>    1.916</td> <td> 0.058</td> <td>   -0.038     2.409</td>\n",
        "</tr>\n",
        "<tr>\n",
        "  <th>running_time:rating[T.PG]</th>    <td>   -0.6901</td> <td>    0.679</td> <td>   -1.017</td> <td> 0.311</td> <td>   -2.033     0.653</td>\n",
        "</tr>\n",
        "<tr>\n",
        "  <th>running_time:rating[T.PG-13]</th> <td>   -0.9387</td> <td>    0.623</td> <td>   -1.508</td> <td> 0.134</td> <td>   -2.170     0.293</td>\n",
        "</tr>\n",
        "<tr>\n",
        "  <th>running_time:rating[T.R]</th>     <td>   -0.9901</td> <td>    0.627</td> <td>   -1.580</td> <td> 0.117</td> <td>   -2.230     0.250</td>\n",
        "</tr>\n",
        "</table>\n",
        "<table class=\"simpletable\">\n",
        "<tr>\n",
        "  <th>Omnibus:</th>       <td> 2.328</td> <th>  Durbin-Watson:     </th> <td>   2.111</td>\n",
        "</tr>\n",
        "<tr>\n",
        "  <th>Prob(Omnibus):</th> <td> 0.312</td> <th>  Jarque-Bera (JB):  </th> <td>   2.049</td>\n",
        "</tr>\n",
        "<tr>\n",
        "  <th>Skew:</th>          <td> 0.100</td> <th>  Prob(JB):          </th> <td>   0.359</td>\n",
        "</tr>\n",
        "<tr>\n",
        "  <th>Kurtosis:</th>      <td> 3.558</td> <th>  Cond. No.          </th> <td>1.19e+04</td>\n",
        "</tr>\n",
        "</table>"
       ],
       "output_type": "pyout",
       "prompt_number": 81,
       "text": [
        "<class 'statsmodels.iolib.summary.Summary'>\n",
        "\"\"\"\n",
        "                            OLS Regression Results                            \n",
        "==============================================================================\n",
        "Dep. Variable:                  score   R-squared:                       0.165\n",
        "Model:                            OLS   Adj. R-squared:                  0.121\n",
        "Method:                 Least Squares   F-statistic:                     3.727\n",
        "Date:                Thu, 14 Feb 2013   Prob (F-statistic):            0.00103\n",
        "Time:                        01:39:30   Log-Likelihood:                -558.68\n",
        "No. Observations:                 140   AIC:                             1133.\n",
        "Df Residuals:                     132   BIC:                             1157.\n",
        "Df Model:                           7                                         \n",
        "================================================================================================\n",
        "                                   coef    std err          t      P>|t|      [95.0% Conf. Int.]\n",
        "------------------------------------------------------------------------------------------------\n",
        "Intercept                      -30.4212     51.630     -0.589      0.557      -132.550    71.707\n",
        "rating[T.PG]                    38.2850     58.182      0.658      0.512       -76.804   153.374\n",
        "rating[T.PG-13]                 58.9816     52.233      1.129      0.261       -44.341   162.304\n",
        "rating[T.R]                     64.4803     52.859      1.220      0.225       -40.080   169.040\n",
        "running_time                     1.1852      0.619      1.916      0.058        -0.038     2.409\n",
        "running_time:rating[T.PG]       -0.6901      0.679     -1.017      0.311        -2.033     0.653\n",
        "running_time:rating[T.PG-13]    -0.9387      0.623     -1.508      0.134        -2.170     0.293\n",
        "running_time:rating[T.R]        -0.9901      0.627     -1.580      0.117        -2.230     0.250\n",
        "==============================================================================\n",
        "Omnibus:                        2.328   Durbin-Watson:                   2.111\n",
        "Prob(Omnibus):                  0.312   Jarque-Bera (JB):                2.049\n",
        "Skew:                           0.100   Prob(JB):                        0.359\n",
        "Kurtosis:                       3.558   Cond. No.                     1.19e+04\n",
        "==============================================================================\n",
        "\n",
        "The condition number is large, 1.19e+04. This might indicate that there are\n",
        "strong multicollinearity or other numerical problems.\n",
        "\"\"\""
       ]
      }
     ],
     "prompt_number": 81
    },
    {
     "cell_type": "code",
     "collapsed": false,
     "input": [
      "lm.params['running_time:rating[T.PG]']"
     ],
     "language": "python",
     "metadata": {},
     "outputs": [
      {
       "output_type": "pyout",
       "prompt_number": 82,
       "text": [
        "-0.6901156358201973"
       ]
      }
     ],
     "prompt_number": 82
    },
    {
     "cell_type": "code",
     "collapsed": false,
     "input": [
      "lm.params['running_time'] + lm.params['running_time:rating[T.PG]']"
     ],
     "language": "python",
     "metadata": {},
     "outputs": [
      {
       "output_type": "pyout",
       "prompt_number": 83,
       "text": [
        "0.49503444316874379"
       ]
      }
     ],
     "prompt_number": 83
    },
    {
     "cell_type": "code",
     "collapsed": false,
     "input": [
      "warpbreaks = pd.read_csv('./data/warpbreaks.csv')\n",
      "warpbreaks = warpbreaks.drop('Unnamed: 0', axis=1)\n",
      "warpbreaks.head()"
     ],
     "language": "python",
     "metadata": {},
     "outputs": [
      {
       "html": [
        "<div style=\"max-height:1000px;max-width:1500px;overflow:auto;\">\n",
        "<table border=\"1\" class=\"dataframe\">\n",
        "  <thead>\n",
        "    <tr style=\"text-align: right;\">\n",
        "      <th></th>\n",
        "      <th>breaks</th>\n",
        "      <th>wool</th>\n",
        "      <th>tension</th>\n",
        "    </tr>\n",
        "  </thead>\n",
        "  <tbody>\n",
        "    <tr>\n",
        "      <td><strong>0</strong></td>\n",
        "      <td> 26</td>\n",
        "      <td> A</td>\n",
        "      <td> L</td>\n",
        "    </tr>\n",
        "    <tr>\n",
        "      <td><strong>1</strong></td>\n",
        "      <td> 30</td>\n",
        "      <td> A</td>\n",
        "      <td> L</td>\n",
        "    </tr>\n",
        "    <tr>\n",
        "      <td><strong>2</strong></td>\n",
        "      <td> 54</td>\n",
        "      <td> A</td>\n",
        "      <td> L</td>\n",
        "    </tr>\n",
        "    <tr>\n",
        "      <td><strong>3</strong></td>\n",
        "      <td> 25</td>\n",
        "      <td> A</td>\n",
        "      <td> L</td>\n",
        "    </tr>\n",
        "    <tr>\n",
        "      <td><strong>4</strong></td>\n",
        "      <td> 70</td>\n",
        "      <td> A</td>\n",
        "      <td> L</td>\n",
        "    </tr>\n",
        "  </tbody>\n",
        "</table>\n",
        "</div>"
       ],
       "output_type": "pyout",
       "prompt_number": 84,
       "text": [
        "   breaks wool tension\n",
        "0      26    A       L\n",
        "1      30    A       L\n",
        "2      54    A       L\n",
        "3      25    A       L\n",
        "4      70    A       L"
       ]
      }
     ],
     "prompt_number": 84
    },
    {
     "cell_type": "code",
     "collapsed": false,
     "input": [
      "lm = ols('breaks ~ tension', warpbreaks).fit()\n",
      "lm.summary()"
     ],
     "language": "python",
     "metadata": {},
     "outputs": [
      {
       "html": [
        "<table class=\"simpletable\">\n",
        "<caption>OLS Regression Results</caption>\n",
        "<tr>\n",
        "  <th>Dep. Variable:</th>         <td>breaks</td>      <th>  R-squared:         </th> <td>   0.220</td>\n",
        "</tr>\n",
        "<tr>\n",
        "  <th>Model:</th>                   <td>OLS</td>       <th>  Adj. R-squared:    </th> <td>   0.190</td>\n",
        "</tr>\n",
        "<tr>\n",
        "  <th>Method:</th>             <td>Least Squares</td>  <th>  F-statistic:       </th> <td>   7.206</td>\n",
        "</tr>\n",
        "<tr>\n",
        "  <th>Date:</th>             <td>Thu, 14 Feb 2013</td> <th>  Prob (F-statistic):</th>  <td>0.00175</td>\n",
        "</tr>\n",
        "<tr>\n",
        "  <th>Time:</th>                 <td>01:42:04</td>     <th>  Log-Likelihood:    </th> <td> -208.72</td>\n",
        "</tr>\n",
        "<tr>\n",
        "  <th>No. Observations:</th>      <td>    54</td>      <th>  AIC:               </th> <td>   423.4</td>\n",
        "</tr>\n",
        "<tr>\n",
        "  <th>Df Residuals:</th>          <td>    51</td>      <th>  BIC:               </th> <td>   429.4</td>\n",
        "</tr>\n",
        "<tr>\n",
        "  <th>Df Model:</th>              <td>     2</td>      <th>                     </th>     <td> </td>   \n",
        "</tr>\n",
        "</table>\n",
        "<table class=\"simpletable\">\n",
        "<tr>\n",
        "        <td></td>          <th>coef</th>     <th>std err</th>      <th>t</th>      <th>P>|t|</th> <th>[95.0% Conf. Int.]</th> \n",
        "</tr>\n",
        "<tr>\n",
        "  <th>Intercept</th>    <td>   21.6667</td> <td>    2.800</td> <td>    7.737</td> <td> 0.000</td> <td>   16.045    27.288</td>\n",
        "</tr>\n",
        "<tr>\n",
        "  <th>tension[T.L]</th> <td>   14.7222</td> <td>    3.960</td> <td>    3.718</td> <td> 0.001</td> <td>    6.772    22.673</td>\n",
        "</tr>\n",
        "<tr>\n",
        "  <th>tension[T.M]</th> <td>    4.7222</td> <td>    3.960</td> <td>    1.192</td> <td> 0.239</td> <td>   -3.228    12.673</td>\n",
        "</tr>\n",
        "</table>\n",
        "<table class=\"simpletable\">\n",
        "<tr>\n",
        "  <th>Omnibus:</th>       <td> 6.885</td> <th>  Durbin-Watson:     </th> <td>   1.923</td>\n",
        "</tr>\n",
        "<tr>\n",
        "  <th>Prob(Omnibus):</th> <td> 0.032</td> <th>  Jarque-Bera (JB):  </th> <td>   6.029</td>\n",
        "</tr>\n",
        "<tr>\n",
        "  <th>Skew:</th>          <td> 0.786</td> <th>  Prob(JB):          </th> <td>  0.0491</td>\n",
        "</tr>\n",
        "<tr>\n",
        "  <th>Kurtosis:</th>      <td> 3.456</td> <th>  Cond. No.          </th> <td>    3.73</td>\n",
        "</tr>\n",
        "</table>"
       ],
       "output_type": "pyout",
       "prompt_number": 85,
       "text": [
        "<class 'statsmodels.iolib.summary.Summary'>\n",
        "\"\"\"\n",
        "                            OLS Regression Results                            \n",
        "==============================================================================\n",
        "Dep. Variable:                 breaks   R-squared:                       0.220\n",
        "Model:                            OLS   Adj. R-squared:                  0.190\n",
        "Method:                 Least Squares   F-statistic:                     7.206\n",
        "Date:                Thu, 14 Feb 2013   Prob (F-statistic):            0.00175\n",
        "Time:                        01:42:04   Log-Likelihood:                -208.72\n",
        "No. Observations:                  54   AIC:                             423.4\n",
        "Df Residuals:                      51   BIC:                             429.4\n",
        "Df Model:                           2                                         \n",
        "================================================================================\n",
        "                   coef    std err          t      P>|t|      [95.0% Conf. Int.]\n",
        "--------------------------------------------------------------------------------\n",
        "Intercept       21.6667      2.800      7.737      0.000        16.045    27.288\n",
        "tension[T.L]    14.7222      3.960      3.718      0.001         6.772    22.673\n",
        "tension[T.M]     4.7222      3.960      1.192      0.239        -3.228    12.673\n",
        "==============================================================================\n",
        "Omnibus:                        6.885   Durbin-Watson:                   1.923\n",
        "Prob(Omnibus):                  0.032   Jarque-Bera (JB):                6.029\n",
        "Skew:                           0.786   Prob(JB):                       0.0491\n",
        "Kurtosis:                       3.456   Cond. No.                         3.73\n",
        "==============================================================================\n",
        "\"\"\""
       ]
      }
     ],
     "prompt_number": 85
    },
    {
     "cell_type": "code",
     "collapsed": false,
     "input": [
      "lm.conf_int()"
     ],
     "language": "python",
     "metadata": {},
     "outputs": [
      {
       "html": [
        "<div style=\"max-height:1000px;max-width:1500px;overflow:auto;\">\n",
        "<table border=\"1\" class=\"dataframe\">\n",
        "  <thead>\n",
        "    <tr style=\"text-align: right;\">\n",
        "      <th></th>\n",
        "      <th>0</th>\n",
        "      <th>1</th>\n",
        "    </tr>\n",
        "  </thead>\n",
        "  <tbody>\n",
        "    <tr>\n",
        "      <td><strong>Intercept</strong></td>\n",
        "      <td> 16.044872</td>\n",
        "      <td> 27.288462</td>\n",
        "    </tr>\n",
        "    <tr>\n",
        "      <td><strong>tension[T.L]</strong></td>\n",
        "      <td>  6.771803</td>\n",
        "      <td> 22.672641</td>\n",
        "    </tr>\n",
        "    <tr>\n",
        "      <td><strong>tension[T.M]</strong></td>\n",
        "      <td> -3.228197</td>\n",
        "      <td> 12.672641</td>\n",
        "    </tr>\n",
        "  </tbody>\n",
        "</table>\n",
        "</div>"
       ],
       "output_type": "pyout",
       "prompt_number": 86,
       "text": [
        "                      0          1\n",
        "Intercept     16.044872  27.288462\n",
        "tension[T.L]   6.771803  22.672641\n",
        "tension[T.M]  -3.228197  12.672641"
       ]
      }
     ],
     "prompt_number": 86
    },
    {
     "cell_type": "code",
     "collapsed": false,
     "input": [],
     "language": "python",
     "metadata": {},
     "outputs": []
    }
   ],
   "metadata": {}
  }
 ]
}