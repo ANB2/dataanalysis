{
 "metadata": {
  "name": "binary_outcomes"
 },
 "nbformat": 3,
 "nbformat_minor": 0,
 "worksheets": [
  {
   "cells": [
    {
     "cell_type": "code",
     "collapsed": false,
     "input": [
      "import pandas as pd\n",
      "import numpy as np"
     ],
     "language": "python",
     "metadata": {},
     "outputs": [],
     "prompt_number": 1
    },
    {
     "cell_type": "code",
     "collapsed": false,
     "input": [
      "%load_ext rmagic"
     ],
     "language": "python",
     "metadata": {},
     "outputs": [],
     "prompt_number": 2
    },
    {
     "cell_type": "code",
     "collapsed": false,
     "input": [
      "%%R\n",
      "download.file(\"https://dl.dropbox.com/u/7710864/data/ravensData.rda\",destfile=\"../data/ravensData.rda\",method=\"curl\")\n",
      "load(\"../data/ravensData.rda\")\n",
      "write.csv(ravensData, \"../data/ravensData.csv\", row.names=FALSE)"
     ],
     "language": "python",
     "metadata": {},
     "outputs": [],
     "prompt_number": 15
    },
    {
     "cell_type": "code",
     "collapsed": false,
     "input": [
      "ravensData = pd.read_csv('../data/ravensData.csv')\n",
      "ravensData.head(6)"
     ],
     "language": "python",
     "metadata": {},
     "outputs": [
      {
       "html": [
        "<div style=\"max-height:1000px;max-width:1500px;overflow:auto;\">\n",
        "<table border=\"1\" class=\"dataframe\">\n",
        "  <thead>\n",
        "    <tr style=\"text-align: right;\">\n",
        "      <th></th>\n",
        "      <th>ravenWinNum</th>\n",
        "      <th>ravenWin</th>\n",
        "      <th>ravenScore</th>\n",
        "      <th>opponentScore</th>\n",
        "    </tr>\n",
        "  </thead>\n",
        "  <tbody>\n",
        "    <tr>\n",
        "      <td><strong>0</strong></td>\n",
        "      <td> 1</td>\n",
        "      <td> W</td>\n",
        "      <td> 24</td>\n",
        "      <td>  9</td>\n",
        "    </tr>\n",
        "    <tr>\n",
        "      <td><strong>1</strong></td>\n",
        "      <td> 1</td>\n",
        "      <td> W</td>\n",
        "      <td> 38</td>\n",
        "      <td> 35</td>\n",
        "    </tr>\n",
        "    <tr>\n",
        "      <td><strong>2</strong></td>\n",
        "      <td> 1</td>\n",
        "      <td> W</td>\n",
        "      <td> 28</td>\n",
        "      <td> 13</td>\n",
        "    </tr>\n",
        "    <tr>\n",
        "      <td><strong>3</strong></td>\n",
        "      <td> 1</td>\n",
        "      <td> W</td>\n",
        "      <td> 34</td>\n",
        "      <td> 31</td>\n",
        "    </tr>\n",
        "    <tr>\n",
        "      <td><strong>4</strong></td>\n",
        "      <td> 1</td>\n",
        "      <td> W</td>\n",
        "      <td> 44</td>\n",
        "      <td> 13</td>\n",
        "    </tr>\n",
        "    <tr>\n",
        "      <td><strong>5</strong></td>\n",
        "      <td> 0</td>\n",
        "      <td> L</td>\n",
        "      <td> 23</td>\n",
        "      <td> 24</td>\n",
        "    </tr>\n",
        "  </tbody>\n",
        "</table>\n",
        "</div>"
       ],
       "output_type": "pyout",
       "prompt_number": 16,
       "text": [
        "   ravenWinNum ravenWin  ravenScore  opponentScore\n",
        "0            1        W          24              9\n",
        "1            1        W          38             35\n",
        "2            1        W          28             13\n",
        "3            1        W          34             31\n",
        "4            1        W          44             13\n",
        "5            0        L          23             24"
       ]
      }
     ],
     "prompt_number": 16
    },
    {
     "cell_type": "code",
     "collapsed": false,
     "input": [
      "from statsmodels.formula.api import ols\n",
      "\n",
      "lmRavens = ols('ravenWinNum ~ ravenScore', ravensData).fit()\n",
      "lmRavens.summary()"
     ],
     "language": "python",
     "metadata": {},
     "outputs": [
      {
       "html": [
        "<table class=\"simpletable\">\n",
        "<caption>OLS Regression Results</caption>\n",
        "<tr>\n",
        "  <th>Dep. Variable:</th>       <td>ravenWinNum</td>   <th>  R-squared:         </th> <td>   0.146</td>\n",
        "</tr>\n",
        "<tr>\n",
        "  <th>Model:</th>                   <td>OLS</td>       <th>  Adj. R-squared:    </th> <td>   0.099</td>\n",
        "</tr>\n",
        "<tr>\n",
        "  <th>Method:</th>             <td>Least Squares</td>  <th>  F-statistic:       </th> <td>   3.080</td>\n",
        "</tr>\n",
        "<tr>\n",
        "  <th>Date:</th>             <td>Wed, 20 Feb 2013</td> <th>  Prob (F-statistic):</th>  <td>0.0963</td> \n",
        "</tr>\n",
        "<tr>\n",
        "  <th>Time:</th>                 <td>19:46:45</td>     <th>  Log-Likelihood:    </th> <td> -11.193</td>\n",
        "</tr>\n",
        "<tr>\n",
        "  <th>No. Observations:</th>      <td>    20</td>      <th>  AIC:               </th> <td>   26.39</td>\n",
        "</tr>\n",
        "<tr>\n",
        "  <th>Df Residuals:</th>          <td>    18</td>      <th>  BIC:               </th> <td>   28.38</td>\n",
        "</tr>\n",
        "<tr>\n",
        "  <th>Df Model:</th>              <td>     1</td>      <th>                     </th>     <td> </td>   \n",
        "</tr>\n",
        "</table>\n",
        "<table class=\"simpletable\">\n",
        "<tr>\n",
        "       <td></td>         <th>coef</th>     <th>std err</th>      <th>t</th>      <th>P>|t|</th> <th>[95.0% Conf. Int.]</th> \n",
        "</tr>\n",
        "<tr>\n",
        "  <th>Intercept</th>  <td>    0.2850</td> <td>    0.257</td> <td>    1.111</td> <td> 0.281</td> <td>   -0.254     0.824</td>\n",
        "</tr>\n",
        "<tr>\n",
        "  <th>ravenScore</th> <td>    0.0159</td> <td>    0.009</td> <td>    1.755</td> <td> 0.096</td> <td>   -0.003     0.035</td>\n",
        "</tr>\n",
        "</table>\n",
        "<table class=\"simpletable\">\n",
        "<tr>\n",
        "  <th>Omnibus:</th>       <td> 4.880</td> <th>  Durbin-Watson:     </th> <td>   1.571</td>\n",
        "</tr>\n",
        "<tr>\n",
        "  <th>Prob(Omnibus):</th> <td> 0.087</td> <th>  Jarque-Bera (JB):  </th> <td>   2.190</td>\n",
        "</tr>\n",
        "<tr>\n",
        "  <th>Skew:</th>          <td>-0.505</td> <th>  Prob(JB):          </th> <td>   0.335</td>\n",
        "</tr>\n",
        "<tr>\n",
        "  <th>Kurtosis:</th>      <td> 1.732</td> <th>  Cond. No.          </th> <td>    72.9</td>\n",
        "</tr>\n",
        "</table>"
       ],
       "output_type": "pyout",
       "prompt_number": 18,
       "text": [
        "<class 'statsmodels.iolib.summary.Summary'>\n",
        "\"\"\"\n",
        "                            OLS Regression Results                            \n",
        "==============================================================================\n",
        "Dep. Variable:            ravenWinNum   R-squared:                       0.146\n",
        "Model:                            OLS   Adj. R-squared:                  0.099\n",
        "Method:                 Least Squares   F-statistic:                     3.080\n",
        "Date:                Wed, 20 Feb 2013   Prob (F-statistic):             0.0963\n",
        "Time:                        19:46:45   Log-Likelihood:                -11.193\n",
        "No. Observations:                  20   AIC:                             26.39\n",
        "Df Residuals:                      18   BIC:                             28.38\n",
        "Df Model:                           1                                         \n",
        "==============================================================================\n",
        "                 coef    std err          t      P>|t|      [95.0% Conf. Int.]\n",
        "------------------------------------------------------------------------------\n",
        "Intercept      0.2850      0.257      1.111      0.281        -0.254     0.824\n",
        "ravenScore     0.0159      0.009      1.755      0.096        -0.003     0.035\n",
        "==============================================================================\n",
        "Omnibus:                        4.880   Durbin-Watson:                   1.571\n",
        "Prob(Omnibus):                  0.087   Jarque-Bera (JB):                2.190\n",
        "Skew:                          -0.505   Prob(JB):                        0.335\n",
        "Kurtosis:                       1.732   Cond. No.                         72.9\n",
        "==============================================================================\n",
        "\"\"\""
       ]
      }
     ],
     "prompt_number": 18
    },
    {
     "cell_type": "code",
     "collapsed": false,
     "input": [
      "plot(ravensData['ravenScore'], lmRavens.fittedvalues, 'ob')\n",
      "xlabel('Raven Score')\n",
      "ylabel('Prob Win');"
     ],
     "language": "python",
     "metadata": {},
     "outputs": [
      {
       "output_type": "display_data",
       "png": "[encoded data removed]"
      }
     ],
     "prompt_number": 21
    },
    {
     "cell_type": "code",
     "collapsed": false,
     "input": [
      "from statsmodels.formula.api import glm\n",
      "from statsmodels.api import families as f\n",
      "\n",
      "# we only have t-values here\n",
      "logRegRavens = glm('ravenWinNum ~ ravenScore', ravensData, family=f.Binomial()).fit()\n",
      "logRegRavens.summary()"
     ],
     "language": "python",
     "metadata": {},
     "outputs": [
      {
       "html": [
        "<table class=\"simpletable\">\n",
        "<caption>Generalized Linear Model Regression Results</caption>\n",
        "<tr>\n",
        "  <th>Dep. Variable:</th>     <td>ravenWinNum</td>   <th>  No. Observations:  </th>  <td>    20</td> \n",
        "</tr>\n",
        "<tr>\n",
        "  <th>Model:</th>                 <td>GLM</td>       <th>  Df Residuals:      </th>  <td>    18</td> \n",
        "</tr>\n",
        "<tr>\n",
        "  <th>Model Family:</th>       <td>Binomial</td>     <th>  Df Model:          </th>  <td>     1</td> \n",
        "</tr>\n",
        "<tr>\n",
        "  <th>Link Function:</th>        <td>logit</td>      <th>  Scale:             </th>    <td>1.0</td>  \n",
        "</tr>\n",
        "<tr>\n",
        "  <th>Method:</th>               <td>IRLS</td>       <th>  Log-Likelihood:    </th> <td> -10.447</td>\n",
        "</tr>\n",
        "<tr>\n",
        "  <th>Date:</th>           <td>Wed, 20 Feb 2013</td> <th>  Deviance:          </th> <td>  20.895</td>\n",
        "</tr>\n",
        "<tr>\n",
        "  <th>Time:</th>               <td>20:18:03</td>     <th>  Pearson chi2:      </th>  <td>  17.2</td> \n",
        "</tr>\n",
        "<tr>\n",
        "  <th>No. Iterations:</th>         <td>6</td>        <th>                     </th>     <td> </td>   \n",
        "</tr>\n",
        "</table>\n",
        "<table class=\"simpletable\">\n",
        "<tr>\n",
        "       <td></td>         <th>coef</th>     <th>std err</th>      <th>t</th>      <th>P>|t|</th> <th>[95.0% Conf. Int.]</th> \n",
        "</tr>\n",
        "<tr>\n",
        "  <th>Intercept</th>  <td>   -1.6800</td> <td>    1.554</td> <td>   -1.081</td> <td> 0.294</td> <td>   -4.726     1.366</td>\n",
        "</tr>\n",
        "<tr>\n",
        "  <th>ravenScore</th> <td>    0.1066</td> <td>    0.067</td> <td>    1.597</td> <td> 0.128</td> <td>   -0.024     0.237</td>\n",
        "</tr>\n",
        "</table>"
       ],
       "output_type": "pyout",
       "prompt_number": 39,
       "text": [
        "<class 'statsmodels.iolib.summary.Summary'>\n",
        "\"\"\"\n",
        "                 Generalized Linear Model Regression Results                  \n",
        "==============================================================================\n",
        "Dep. Variable:            ravenWinNum   No. Observations:                   20\n",
        "Model:                            GLM   Df Residuals:                       18\n",
        "Model Family:                Binomial   Df Model:                            1\n",
        "Link Function:                  logit   Scale:                             1.0\n",
        "Method:                          IRLS   Log-Likelihood:                -10.447\n",
        "Date:                Wed, 20 Feb 2013   Deviance:                       20.895\n",
        "Time:                        20:18:03   Pearson chi2:                     17.2\n",
        "No. Iterations:                     6                                         \n",
        "==============================================================================\n",
        "                 coef    std err          t      P>|t|      [95.0% Conf. Int.]\n",
        "------------------------------------------------------------------------------\n",
        "Intercept     -1.6800      1.554     -1.081      0.294        -4.726     1.366\n",
        "ravenScore     0.1066      0.067      1.597      0.128        -0.024     0.237\n",
        "==============================================================================\n",
        "\"\"\""
       ]
      }
     ],
     "prompt_number": 39
    },
    {
     "cell_type": "code",
     "collapsed": false,
     "input": [
      "plot(ravensData['ravenScore'], logRegRavens.fittedvalues, 'ob')\n",
      "xlabel('Score')\n",
      "ylabel('Prob Ravens Win');"
     ],
     "language": "python",
     "metadata": {},
     "outputs": [
      {
       "output_type": "display_data",
       "png": "[encoded data removed]"
      }
     ],
     "prompt_number": 40
    },
    {
     "cell_type": "code",
     "collapsed": false,
     "input": [
      "np.exp(logRegRavens.params)"
     ],
     "language": "python",
     "metadata": {},
     "outputs": [
      {
       "output_type": "pyout",
       "prompt_number": 41,
       "text": [
        "Intercept     0.186372\n",
        "ravenScore    1.112469"
       ]
      }
     ],
     "prompt_number": 41
    },
    {
     "cell_type": "code",
     "collapsed": false,
     "input": [
      "# not the same as R\n",
      "np.exp(logRegRavens.conf_int())"
     ],
     "language": "python",
     "metadata": {},
     "outputs": [
      {
       "html": [
        "<div style=\"max-height:1000px;max-width:1500px;overflow:auto;\">\n",
        "<table border=\"1\" class=\"dataframe\">\n",
        "  <thead>\n",
        "    <tr style=\"text-align: right;\">\n",
        "      <th></th>\n",
        "      <th>0</th>\n",
        "      <th>1</th>\n",
        "    </tr>\n",
        "  </thead>\n",
        "  <tbody>\n",
        "    <tr>\n",
        "      <td><strong>Intercept</strong></td>\n",
        "      <td> 0.008862</td>\n",
        "      <td> 3.91965</td>\n",
        "    </tr>\n",
        "    <tr>\n",
        "      <td><strong>ravenScore</strong></td>\n",
        "      <td> 0.976070</td>\n",
        "      <td> 1.26793</td>\n",
        "    </tr>\n",
        "  </tbody>\n",
        "</table>\n",
        "</div>"
       ],
       "output_type": "pyout",
       "prompt_number": 43,
       "text": [
        "                   0        1\n",
        "Intercept   0.008862  3.91965\n",
        "ravenScore  0.976070  1.26793"
       ]
      }
     ],
     "prompt_number": 43
    },
    {
     "cell_type": "code",
     "collapsed": false,
     "input": [
      "# no anova for logistic regression"
     ],
     "language": "python",
     "metadata": {},
     "outputs": [],
     "prompt_number": 44
    },
    {
     "cell_type": "code",
     "collapsed": false,
     "input": [
      "%%R\n",
      "load(\"../data/ravensData.rda\")\n",
      "logRegRavens <- glm(ravensData$ravenWinNum ~ ravensData$ravenScore, family=\"binomial\")\n",
      "print(anova(logRegRavens,test=\"Chisq\"))"
     ],
     "language": "python",
     "metadata": {},
     "outputs": [
      {
       "output_type": "display_data",
       "text": [
        "Analysis of Deviance Table\n",
        "\n",
        "Model: binomial, link: logit\n",
        "\n",
        "Response: ravensData$ravenWinNum\n",
        "\n",
        "Terms added sequentially (first to last)\n",
        "\n",
        "\n",
        "                      Df Deviance Resid. Df Resid. Dev Pr(>Chi)  \n",
        "NULL                                     19     24.435           \n",
        "ravensData$ravenScore  1   3.5398        18     20.895  0.05991 .\n",
        "---\n",
        "Signif. codes:  0 \u2018***\u2019 0.001 \u2018**\u2019 0.01 \u2018*\u2019 0.05 \u2018.\u2019 0.1 \u2018 \u2019 1 \n"
       ]
      }
     ],
     "prompt_number": 50
    },
    {
     "cell_type": "code",
     "collapsed": false,
     "input": [],
     "language": "python",
     "metadata": {},
     "outputs": []
    }
   ],
   "metadata": {}
  }
 ]
}