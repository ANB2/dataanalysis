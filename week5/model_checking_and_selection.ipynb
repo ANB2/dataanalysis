{
 "metadata": {
  "name": "model_checking_and_selection"
 },
 "nbformat": 3,
 "nbformat_minor": 0,
 "worksheets": [
  {
   "cells": [
    {
     "cell_type": "code",
     "collapsed": false,
     "input": [
      "import pandas as pd\n",
      "import numpy as np"
     ],
     "language": "python",
     "metadata": {},
     "outputs": [],
     "prompt_number": 4
    },
    {
     "cell_type": "code",
     "collapsed": false,
     "input": [
      "%load_ext rmagic"
     ],
     "language": "python",
     "metadata": {},
     "outputs": [],
     "prompt_number": 3
    },
    {
     "cell_type": "heading",
     "level": 4,
     "metadata": {},
     "source": [
      "Robust ..."
     ]
    },
    {
     "cell_type": "code",
     "collapsed": false,
     "input": [
      "%%R -o data\n",
      "set.seed(3433); par(mfrow=c(1,2)); \n",
      "data <- rnorm(100,mean=seq(0,3,length=100),sd=seq(0.1,3,length=100))"
     ],
     "language": "python",
     "metadata": {},
     "outputs": [],
     "prompt_number": 5
    },
    {
     "cell_type": "code",
     "collapsed": false,
     "input": [
      "df = pd.DataFrame(zip(data, np.linspace(0, 3, num=100)), columns=['data', 'x'])"
     ],
     "language": "python",
     "metadata": {},
     "outputs": [],
     "prompt_number": 33
    },
    {
     "cell_type": "code",
     "collapsed": false,
     "input": [
      "from statsmodels.formula.api import ols\n",
      "from statsmodels.stats.sandwich_covariance import cov_hc3\n",
      "\n",
      "lm1 = ols('data ~ x', df).fit()\n",
      "\n",
      "cov_hc3(lm1)"
     ],
     "language": "python",
     "metadata": {},
     "outputs": [
      {
       "output_type": "pyout",
       "prompt_number": 31,
       "text": [
        "array([[ 0.05410024, -0.0476481 ],\n",
        "       [-0.0476481 ,  0.05368603]])"
       ]
      }
     ],
     "prompt_number": 31
    },
    {
     "cell_type": "code",
     "collapsed": false,
     "input": [
      "lm1.normalized_cov_params"
     ],
     "language": "python",
     "metadata": {},
     "outputs": [
      {
       "html": [
        "<div style=\"max-height:1000px;max-width:1500px;overflow:auto;\">\n",
        "<table border=\"1\" class=\"dataframe\">\n",
        "  <thead>\n",
        "    <tr style=\"text-align: right;\">\n",
        "      <th></th>\n",
        "      <th>Intercept</th>\n",
        "      <th>x</th>\n",
        "    </tr>\n",
        "  </thead>\n",
        "  <tbody>\n",
        "    <tr>\n",
        "      <td><strong>Intercept</strong></td>\n",
        "      <td> 0.039406</td>\n",
        "      <td>-0.019604</td>\n",
        "    </tr>\n",
        "    <tr>\n",
        "      <td><strong>x</strong></td>\n",
        "      <td>-0.019604</td>\n",
        "      <td> 0.013069</td>\n",
        "    </tr>\n",
        "  </tbody>\n",
        "</table>\n",
        "</div>"
       ],
       "output_type": "pyout",
       "prompt_number": 32,
       "text": [
        "           Intercept         x\n",
        "Intercept   0.039406 -0.019604\n",
        "x          -0.019604  0.013069"
       ]
      }
     ],
     "prompt_number": 32
    },
    {
     "cell_type": "heading",
     "level": 4,
     "metadata": {},
     "source": [
      "Robust linear modelling"
     ]
    },
    {
     "cell_type": "code",
     "collapsed": false,
     "input": [
      "%%R -o x,y\n",
      "set.seed(343)\n",
      "x <- seq(0,3,length=100); y <- rcauchy(100)"
     ],
     "language": "python",
     "metadata": {},
     "outputs": [],
     "prompt_number": 35
    },
    {
     "cell_type": "code",
     "collapsed": false,
     "input": [
      "df = pd.DataFrame(zip(x, y), columns=['x', 'y'])"
     ],
     "language": "python",
     "metadata": {},
     "outputs": [],
     "prompt_number": 36
    },
    {
     "cell_type": "code",
     "collapsed": false,
     "input": [
      "from statsmodels.formula.api import rlm\n",
      "\n",
      "lm1 = ols('y ~ x', df).fit()\n",
      "rlm1 = rlm('y ~ x', df).fit()"
     ],
     "language": "python",
     "metadata": {},
     "outputs": [],
     "prompt_number": 38
    },
    {
     "cell_type": "code",
     "collapsed": false,
     "input": [
      "lm1.params"
     ],
     "language": "python",
     "metadata": {},
     "outputs": [
      {
       "output_type": "pyout",
       "prompt_number": 39,
       "text": [
        "Intercept    0.352298\n",
        "x           -0.401058"
       ]
      }
     ],
     "prompt_number": 39
    },
    {
     "cell_type": "code",
     "collapsed": false,
     "input": [
      "rlm1.params"
     ],
     "language": "python",
     "metadata": {},
     "outputs": [
      {
       "output_type": "pyout",
       "prompt_number": 40,
       "text": [
        "Intercept    0.008537\n",
        "x           -0.017875"
       ]
      }
     ],
     "prompt_number": 40
    },
    {
     "cell_type": "code",
     "collapsed": false,
     "input": [
      "f, (ax1, ax2) = subplots(ncols=2)\n",
      "\n",
      "ax1.plot(df['x'], df['y'], 'o', color='grey')\n",
      "ax1.plot(df['x'], lm1.fittedvalues, linewidth=3)\n",
      "ax1.plot(df['x'], rlm1.fittedvalues, 'g', linewidth=3)\n",
      "ax1.set_xlabel('x')\n",
      "ax1.set_ylabel('y')\n",
      "\n",
      "ax2.plot(df['x'], df['y'], 'o', color='grey')\n",
      "ax2.plot(df['x'], lm1.fittedvalues, linewidth=3)\n",
      "ax2.plot(df['x'], rlm1.fittedvalues, 'g', linewidth=3)\n",
      "ax2.set_xlabel('x')\n",
      "ax2.set_ylabel('y')\n",
      "ax2.set_ylim([-5, 5])\n",
      "ax2.set_title('Zoomed in')\n",
      "\n",
      "f.set_size_inches(9, 3)\n",
      "f.tight_layout();"
     ],
     "language": "python",
     "metadata": {},
     "outputs": [
      {
       "output_type": "display_data",
       "png": "[encoded data removed]"
      }
     ],
     "prompt_number": 55
    },
    {
     "cell_type": "heading",
     "level": 4,
     "metadata": {},
     "source": [
      "Model selection"
     ]
    },
    {
     "cell_type": "code",
     "collapsed": false,
     "input": [
      "movies = pd.read_csv('../data/movies.txt', sep='\\t')\n",
      "movies.columns = ['X', 'score', 'rating', 'genre', 'box_office', 'running_time']\n",
      "movies.head()"
     ],
     "language": "python",
     "metadata": {},
     "outputs": [
      {
       "html": [
        "<div style=\"max-height:1000px;max-width:1500px;overflow:auto;\">\n",
        "<table border=\"1\" class=\"dataframe\">\n",
        "  <thead>\n",
        "    <tr style=\"text-align: right;\">\n",
        "      <th></th>\n",
        "      <th>X</th>\n",
        "      <th>score</th>\n",
        "      <th>rating</th>\n",
        "      <th>genre</th>\n",
        "      <th>box_office</th>\n",
        "      <th>running_time</th>\n",
        "    </tr>\n",
        "  </thead>\n",
        "  <tbody>\n",
        "    <tr>\n",
        "      <td><strong>0</strong></td>\n",
        "      <td> 2 Fast 2 Furious</td>\n",
        "      <td> 48.9</td>\n",
        "      <td> PG-13</td>\n",
        "      <td> action/adventure</td>\n",
        "      <td> 127.146</td>\n",
        "      <td> 107</td>\n",
        "    </tr>\n",
        "    <tr>\n",
        "      <td><strong>1</strong></td>\n",
        "      <td>    28 Days Later</td>\n",
        "      <td> 78.2</td>\n",
        "      <td>     R</td>\n",
        "      <td>           horror</td>\n",
        "      <td>  45.065</td>\n",
        "      <td> 113</td>\n",
        "    </tr>\n",
        "    <tr>\n",
        "      <td><strong>2</strong></td>\n",
        "      <td>      A Guy Thing</td>\n",
        "      <td> 39.5</td>\n",
        "      <td> PG-13</td>\n",
        "      <td>       rom comedy</td>\n",
        "      <td>  15.545</td>\n",
        "      <td> 101</td>\n",
        "    </tr>\n",
        "    <tr>\n",
        "      <td><strong>3</strong></td>\n",
        "      <td>      A Man Apart</td>\n",
        "      <td> 42.9</td>\n",
        "      <td>     R</td>\n",
        "      <td> action/adventure</td>\n",
        "      <td>  26.248</td>\n",
        "      <td> 110</td>\n",
        "    </tr>\n",
        "    <tr>\n",
        "      <td><strong>4</strong></td>\n",
        "      <td>    A Mighty Wind</td>\n",
        "      <td> 79.9</td>\n",
        "      <td> PG-13</td>\n",
        "      <td>           comedy</td>\n",
        "      <td>  17.781</td>\n",
        "      <td>  91</td>\n",
        "    </tr>\n",
        "  </tbody>\n",
        "</table>\n",
        "</div>"
       ],
       "output_type": "pyout",
       "prompt_number": 58,
       "text": [
        "                  X  score rating             genre  box_office  running_time\n",
        "0  2 Fast 2 Furious   48.9  PG-13  action/adventure     127.146           107\n",
        "1     28 Days Later   78.2      R            horror      45.065           113\n",
        "2       A Guy Thing   39.5  PG-13        rom comedy      15.545           101\n",
        "3       A Man Apart   42.9      R  action/adventure      26.248           110\n",
        "4     A Mighty Wind   79.9  PG-13            comedy      17.781            91"
       ]
      }
     ],
     "prompt_number": 58
    },
    {
     "cell_type": "code",
     "collapsed": false,
     "input": [
      "# no stepwise regression\n",
      "lm1 = ols('score ~ box_office + running_time', movies).fit()\n",
      "lm1.summary()"
     ],
     "language": "python",
     "metadata": {},
     "outputs": [
      {
       "html": [
        "<table class=\"simpletable\">\n",
        "<caption>OLS Regression Results</caption>\n",
        "<tr>\n",
        "  <th>Dep. Variable:</th>          <td>score</td>      <th>  R-squared:         </th> <td>   0.212</td>\n",
        "</tr>\n",
        "<tr>\n",
        "  <th>Model:</th>                   <td>OLS</td>       <th>  Adj. R-squared:    </th> <td>   0.201</td>\n",
        "</tr>\n",
        "<tr>\n",
        "  <th>Method:</th>             <td>Least Squares</td>  <th>  F-statistic:       </th> <td>   18.46</td>\n",
        "</tr>\n",
        "<tr>\n",
        "  <th>Date:</th>             <td>Thu, 21 Feb 2013</td> <th>  Prob (F-statistic):</th> <td>7.98e-08</td>\n",
        "</tr>\n",
        "<tr>\n",
        "  <th>Time:</th>                 <td>23:49:35</td>     <th>  Log-Likelihood:    </th> <td> -554.61</td>\n",
        "</tr>\n",
        "<tr>\n",
        "  <th>No. Observations:</th>      <td>   140</td>      <th>  AIC:               </th> <td>   1115.</td>\n",
        "</tr>\n",
        "<tr>\n",
        "  <th>Df Residuals:</th>          <td>   137</td>      <th>  BIC:               </th> <td>   1124.</td>\n",
        "</tr>\n",
        "<tr>\n",
        "  <th>Df Model:</th>              <td>     2</td>      <th>                     </th>     <td> </td>   \n",
        "</tr>\n",
        "</table>\n",
        "<table class=\"simpletable\">\n",
        "<tr>\n",
        "        <td></td>          <th>coef</th>     <th>std err</th>      <th>t</th>      <th>P>|t|</th> <th>[95.0% Conf. Int.]</th> \n",
        "</tr>\n",
        "<tr>\n",
        "  <th>Intercept</th>    <td>   37.2364</td> <td>    5.606</td> <td>    6.643</td> <td> 0.000</td> <td>   26.152    48.321</td>\n",
        "</tr>\n",
        "<tr>\n",
        "  <th>box_office</th>   <td>    0.0824</td> <td>    0.018</td> <td>    4.495</td> <td> 0.000</td> <td>    0.046     0.119</td>\n",
        "</tr>\n",
        "<tr>\n",
        "  <th>running_time</th> <td>    0.1275</td> <td>    0.054</td> <td>    2.379</td> <td> 0.019</td> <td>    0.022     0.234</td>\n",
        "</tr>\n",
        "</table>\n",
        "<table class=\"simpletable\">\n",
        "<tr>\n",
        "  <th>Omnibus:</th>       <td> 2.420</td> <th>  Durbin-Watson:     </th> <td>   2.124</td>\n",
        "</tr>\n",
        "<tr>\n",
        "  <th>Prob(Omnibus):</th> <td> 0.298</td> <th>  Jarque-Bera (JB):  </th> <td>   2.230</td>\n",
        "</tr>\n",
        "<tr>\n",
        "  <th>Skew:</th>          <td> 0.309</td> <th>  Prob(JB):          </th> <td>   0.328</td>\n",
        "</tr>\n",
        "<tr>\n",
        "  <th>Kurtosis:</th>      <td> 2.991</td> <th>  Cond. No.          </th> <td>    677.</td>\n",
        "</tr>\n",
        "</table>"
       ],
       "output_type": "pyout",
       "prompt_number": 74,
       "text": [
        "<class 'statsmodels.iolib.summary.Summary'>\n",
        "\"\"\"\n",
        "                            OLS Regression Results                            \n",
        "==============================================================================\n",
        "Dep. Variable:                  score   R-squared:                       0.212\n",
        "Model:                            OLS   Adj. R-squared:                  0.201\n",
        "Method:                 Least Squares   F-statistic:                     18.46\n",
        "Date:                Thu, 21 Feb 2013   Prob (F-statistic):           7.98e-08\n",
        "Time:                        23:49:35   Log-Likelihood:                -554.61\n",
        "No. Observations:                 140   AIC:                             1115.\n",
        "Df Residuals:                     137   BIC:                             1124.\n",
        "Df Model:                           2                                         \n",
        "================================================================================\n",
        "                   coef    std err          t      P>|t|      [95.0% Conf. Int.]\n",
        "--------------------------------------------------------------------------------\n",
        "Intercept       37.2364      5.606      6.643      0.000        26.152    48.321\n",
        "box_office       0.0824      0.018      4.495      0.000         0.046     0.119\n",
        "running_time     0.1275      0.054      2.379      0.019         0.022     0.234\n",
        "==============================================================================\n",
        "Omnibus:                        2.420   Durbin-Watson:                   2.124\n",
        "Prob(Omnibus):                  0.298   Jarque-Bera (JB):                2.230\n",
        "Skew:                           0.309   Prob(JB):                        0.328\n",
        "Kurtosis:                       2.991   Cond. No.                         677.\n",
        "==============================================================================\n",
        "\"\"\""
       ]
      }
     ],
     "prompt_number": 74
    },
    {
     "cell_type": "code",
     "collapsed": false,
     "input": [
      "# no regsubsets\n",
      "# no bic.glm"
     ],
     "language": "python",
     "metadata": {},
     "outputs": []
    }
   ],
   "metadata": {}
  }
 ]
}