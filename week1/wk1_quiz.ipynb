{
 "metadata": {
  "name": "wk1_quiz"
 },
 "nbformat": 3,
 "nbformat_minor": 0,
 "worksheets": [
  {
   "cells": [
    {
     "cell_type": "heading",
     "level": 2,
     "metadata": {},
     "source": [
      "Week 1 quiz -- in Python"
     ]
    },
    {
     "cell_type": "code",
     "collapsed": false,
     "input": [
      "import pandas as pd"
     ],
     "language": "python",
     "metadata": {},
     "outputs": [],
     "prompt_number": 2
    },
    {
     "cell_type": "code",
     "collapsed": false,
     "input": [
      "%load_ext rmagic"
     ],
     "language": "python",
     "metadata": {},
     "outputs": [],
     "prompt_number": 3
    },
    {
     "cell_type": "heading",
     "level": 4,
     "metadata": {},
     "source": [
      "question 3"
     ]
    },
    {
     "cell_type": "code",
     "collapsed": false,
     "input": [
      "%%R -o dataFrame\n",
      "set.seed(31);\n",
      "heightsCM = rnorm(30,mean=188, sd=5);\n",
      "weightsK = rnorm(30,mean=84,sd=3); \n",
      "hasDaughter = sample(c(TRUE,FALSE),size=30,replace=T); \n",
      "dataFrame = data.frame(heightsCM,weightsK,hasDaughter);"
     ],
     "language": "python",
     "metadata": {},
     "outputs": [],
     "prompt_number": 4
    },
    {
     "cell_type": "code",
     "collapsed": false,
     "input": [
      "p = pd.DataFrame(dataFrame.T, columns=['heightsCM', 'weightsK', 'hasDaughter'])"
     ],
     "language": "python",
     "metadata": {},
     "outputs": [],
     "prompt_number": 5
    },
    {
     "cell_type": "heading",
     "level": 4,
     "metadata": {},
     "source": [
      "question 4"
     ]
    },
    {
     "cell_type": "code",
     "collapsed": false,
     "input": [
      "%%R -o s\n",
      "set.seed(41);\n",
      "cauchyValues = rcauchy(100)\n",
      "\n",
      "set.seed(415);\n",
      "s = sample(cauchyValues,size=10,replace=T)"
     ],
     "language": "python",
     "metadata": {},
     "outputs": [],
     "prompt_number": 7
    },
    {
     "cell_type": "code",
     "collapsed": false,
     "input": [
      "s"
     ],
     "language": "python",
     "metadata": {},
     "outputs": [
      {
       "output_type": "pyout",
       "prompt_number": 8,
       "text": [
        "array([ 0.80847186, -1.11228626,  0.37166707, -1.16507204, -2.97017695,\n",
        "       -1.02310311,  0.31152624,  0.28154888,  0.2414012 , -1.11228626])"
       ]
      }
     ],
     "prompt_number": 8
    },
    {
     "cell_type": "code",
     "collapsed": false,
     "input": [],
     "language": "python",
     "metadata": {},
     "outputs": []
    }
   ],
   "metadata": {}
  }
 ]
}