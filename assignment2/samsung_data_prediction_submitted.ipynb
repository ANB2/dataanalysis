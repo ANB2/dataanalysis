{
 "metadata": {
  "name": "samsung_data_prediction"
 },
 "nbformat": 3,
 "nbformat_minor": 0,
 "worksheets": [
  {
   "cells": [
    {
     "cell_type": "heading",
     "level": 2,
     "metadata": {},
     "source": [
      "Coursera Data Analysis -- Assignment 2"
     ]
    },
    {
     "cell_type": "code",
     "collapsed": false,
     "input": [
      "import pandas as pd\n",
      "import numpy as np\n",
      "\n",
      "from sklearn.ensemble import RandomForestClassifier # random forest\n",
      "from sklearn.svm import SVC # support vector machine classifier\n",
      "from sklearn.grid_search import GridSearchCV # hyperparameter grid search to find best model parameters\n",
      "from sklearn import preprocessing # preprocess string labels into numerics"
     ],
     "language": "python",
     "metadata": {},
     "outputs": [],
     "prompt_number": 1
    },
    {
     "cell_type": "markdown",
     "metadata": {},
     "source": [
      "Get the data:"
     ]
    },
    {
     "cell_type": "code",
     "collapsed": false,
     "input": [
      "samsungData = pd.read_csv('/Users/erriza/Dropbox/Public/samsungData.csv')"
     ],
     "language": "python",
     "metadata": {},
     "outputs": [],
     "prompt_number": 2
    },
    {
     "cell_type": "code",
     "collapsed": false,
     "input": [
      "samsungData['dxy'] = (samsungData['tGravityAcc-mean()-X'] - samsungData['tGravityAcc-mean()-Y'])\n",
      "samsungData['dxz'] = (samsungData['tGravityAcc-mean()-X'] - samsungData['tGravityAcc-mean()-Z'])\n",
      "samsungData['dyz'] = (samsungData['tGravityAcc-mean()-Y'] - samsungData['tGravityAcc-mean()-Z'])"
     ],
     "language": "python",
     "metadata": {},
     "outputs": [],
     "prompt_number": 3
    },
    {
     "cell_type": "code",
     "collapsed": false,
     "input": [
      "samsungData.ix[:,-6::].head(10)"
     ],
     "language": "python",
     "metadata": {},
     "outputs": [
      {
       "html": [
        "<div style=\"max-height:1000px;max-width:1500px;overflow:auto;\">\n",
        "<table border=\"1\" class=\"dataframe\">\n",
        "  <thead>\n",
        "    <tr style=\"text-align: right;\">\n",
        "      <th></th>\n",
        "      <th>angle(Z,gravityMean)</th>\n",
        "      <th>subject</th>\n",
        "      <th>activity</th>\n",
        "      <th>dxy</th>\n",
        "      <th>dxz</th>\n",
        "      <th>dyz</th>\n",
        "    </tr>\n",
        "  </thead>\n",
        "  <tbody>\n",
        "    <tr>\n",
        "      <th>1 </th>\n",
        "      <td>-0.058627</td>\n",
        "      <td> 1</td>\n",
        "      <td> standing</td>\n",
        "      <td> 1.104236</td>\n",
        "      <td> 0.848021</td>\n",
        "      <td>-0.256215</td>\n",
        "    </tr>\n",
        "    <tr>\n",
        "      <th>2 </th>\n",
        "      <td>-0.054317</td>\n",
        "      <td> 1</td>\n",
        "      <td> standing</td>\n",
        "      <td> 1.108112</td>\n",
        "      <td> 0.857182</td>\n",
        "      <td>-0.250930</td>\n",
        "    </tr>\n",
        "    <tr>\n",
        "      <th>3 </th>\n",
        "      <td>-0.049118</td>\n",
        "      <td> 1</td>\n",
        "      <td> standing</td>\n",
        "      <td> 1.108888</td>\n",
        "      <td> 0.864994</td>\n",
        "      <td>-0.243894</td>\n",
        "    </tr>\n",
        "    <tr>\n",
        "      <th>4 </th>\n",
        "      <td>-0.047663</td>\n",
        "      <td> 1</td>\n",
        "      <td> standing</td>\n",
        "      <td> 1.111592</td>\n",
        "      <td> 0.867765</td>\n",
        "      <td>-0.243827</td>\n",
        "    </tr>\n",
        "    <tr>\n",
        "      <th>5 </th>\n",
        "      <td>-0.043892</td>\n",
        "      <td> 1</td>\n",
        "      <td> standing</td>\n",
        "      <td> 1.116975</td>\n",
        "      <td> 0.873739</td>\n",
        "      <td>-0.243236</td>\n",
        "    </tr>\n",
        "    <tr>\n",
        "      <th>6 </th>\n",
        "      <td>-0.042126</td>\n",
        "      <td> 1</td>\n",
        "      <td> standing</td>\n",
        "      <td> 1.116158</td>\n",
        "      <td> 0.876038</td>\n",
        "      <td>-0.240120</td>\n",
        "    </tr>\n",
        "    <tr>\n",
        "      <th>7 </th>\n",
        "      <td>-0.043010</td>\n",
        "      <td> 1</td>\n",
        "      <td> standing</td>\n",
        "      <td> 1.112212</td>\n",
        "      <td> 0.874785</td>\n",
        "      <td>-0.237427</td>\n",
        "    </tr>\n",
        "    <tr>\n",
        "      <th>8 </th>\n",
        "      <td>-0.041976</td>\n",
        "      <td> 1</td>\n",
        "      <td> standing</td>\n",
        "      <td> 1.115197</td>\n",
        "      <td> 0.876783</td>\n",
        "      <td>-0.238414</td>\n",
        "    </tr>\n",
        "    <tr>\n",
        "      <th>9 </th>\n",
        "      <td>-0.037364</td>\n",
        "      <td> 1</td>\n",
        "      <td> standing</td>\n",
        "      <td> 1.122855</td>\n",
        "      <td> 0.883363</td>\n",
        "      <td>-0.239492</td>\n",
        "    </tr>\n",
        "    <tr>\n",
        "      <th>10</th>\n",
        "      <td>-0.034417</td>\n",
        "      <td> 1</td>\n",
        "      <td> standing</td>\n",
        "      <td> 1.124720</td>\n",
        "      <td> 0.887544</td>\n",
        "      <td>-0.237176</td>\n",
        "    </tr>\n",
        "  </tbody>\n",
        "</table>\n",
        "</div>"
       ],
       "output_type": "pyout",
       "prompt_number": 4,
       "text": [
        "    angle(Z,gravityMean)  subject  activity       dxy       dxz       dyz\n",
        "1              -0.058627        1  standing  1.104236  0.848021 -0.256215\n",
        "2              -0.054317        1  standing  1.108112  0.857182 -0.250930\n",
        "3              -0.049118        1  standing  1.108888  0.864994 -0.243894\n",
        "4              -0.047663        1  standing  1.111592  0.867765 -0.243827\n",
        "5              -0.043892        1  standing  1.116975  0.873739 -0.243236\n",
        "6              -0.042126        1  standing  1.116158  0.876038 -0.240120\n",
        "7              -0.043010        1  standing  1.112212  0.874785 -0.237427\n",
        "8              -0.041976        1  standing  1.115197  0.876783 -0.238414\n",
        "9              -0.037364        1  standing  1.122855  0.883363 -0.239492\n",
        "10             -0.034417        1  standing  1.124720  0.887544 -0.237176"
       ]
      }
     ],
     "prompt_number": 4
    },
    {
     "cell_type": "code",
     "collapsed": false,
     "input": [
      "samsungData"
     ],
     "language": "python",
     "metadata": {},
     "outputs": [
      {
       "output_type": "pyout",
       "prompt_number": 5,
       "text": [
        "<class 'pandas.core.frame.DataFrame'>\n",
        "Int64Index: 7352 entries, 1 to 7352\n",
        "Columns: 566 entries, tBodyAcc-mean()-X to dyz\n",
        "dtypes: float64(564), int64(1), object(1)"
       ]
      }
     ],
     "prompt_number": 5
    },
    {
     "cell_type": "code",
     "collapsed": false,
     "input": [
      "samsungData.columns[:10]"
     ],
     "language": "python",
     "metadata": {},
     "outputs": [
      {
       "output_type": "pyout",
       "prompt_number": 6,
       "text": [
        "Index([tBodyAcc-mean()-X, tBodyAcc-mean()-Y, tBodyAcc-mean()-Z, tBodyAcc-std()-X, tBodyAcc-std()-Y, tBodyAcc-std()-Z, tBodyAcc-mad()-X, tBodyAcc-mad()-Y, tBodyAcc-mad()-Z, tBodyAcc-max()-X], dtype=object)"
       ]
      }
     ],
     "prompt_number": 6
    },
    {
     "cell_type": "markdown",
     "metadata": {},
     "source": [
      "<br> <br> <br> Check if there is any missing value:"
     ]
    },
    {
     "cell_type": "code",
     "collapsed": false,
     "input": [
      "pd.isnull(samsungData).any().sum()"
     ],
     "language": "python",
     "metadata": {},
     "outputs": [
      {
       "output_type": "stream",
       "stream": "stderr",
       "text": [
        "/opt/local/Library/Frameworks/Python.framework/Versions/2.7/lib/python2.7/site-packages/pandas/core/frame.py:3576: FutureWarning: rename with inplace=True  will return None from pandas 0.11 onward\n",
        "  \" from pandas 0.11 onward\", FutureWarning)\n"
       ]
      },
      {
       "output_type": "pyout",
       "prompt_number": 7,
       "text": [
        "0"
       ]
      }
     ],
     "prompt_number": 7
    },
    {
     "cell_type": "markdown",
     "metadata": {},
     "source": [
      "<br> Look at the subject IDs"
     ]
    },
    {
     "cell_type": "code",
     "collapsed": false,
     "input": [
      "np.unique(samsungData['subject'])"
     ],
     "language": "python",
     "metadata": {},
     "outputs": [
      {
       "output_type": "pyout",
       "prompt_number": 8,
       "text": [
        "1        1\n",
        "348      3\n",
        "689      5\n",
        "991      6\n",
        "1316     7\n",
        "1624     8\n",
        "1905    11\n",
        "2221    14\n",
        "2544    15\n",
        "2872    16\n",
        "3238    17\n",
        "3606    19\n",
        "3966    21\n",
        "4374    22\n",
        "4695    23\n",
        "5067    25\n",
        "5476    26\n",
        "5868    27\n",
        "6244    28\n",
        "6626    29\n",
        "6970    30\n",
        "Name: subject"
       ]
      }
     ],
     "prompt_number": 8
    },
    {
     "cell_type": "markdown",
     "metadata": {},
     "source": [
      "<br> How many subjects are there?"
     ]
    },
    {
     "cell_type": "code",
     "collapsed": false,
     "input": [
      "len(np.unique(samsungData['subject']))"
     ],
     "language": "python",
     "metadata": {},
     "outputs": [
      {
       "output_type": "pyout",
       "prompt_number": 9,
       "text": [
        "21"
       ]
      }
     ],
     "prompt_number": 9
    },
    {
     "cell_type": "markdown",
     "metadata": {},
     "source": [
      "<br> How many activities are there?"
     ]
    },
    {
     "cell_type": "code",
     "collapsed": false,
     "input": [
      "np.unique(samsungData['activity'])"
     ],
     "language": "python",
     "metadata": {},
     "outputs": [
      {
       "output_type": "pyout",
       "prompt_number": 10,
       "text": [
        "52       laying\n",
        "28      sitting\n",
        "1      standing\n",
        "79         walk\n",
        "126    walkdown\n",
        "151      walkup\n",
        "Name: activity"
       ]
      }
     ],
     "prompt_number": 10
    },
    {
     "cell_type": "markdown",
     "metadata": {},
     "source": [
      "<br><br><br> Split the data into training and test dataset"
     ]
    },
    {
     "cell_type": "code",
     "collapsed": false,
     "input": [
      "# take the label column name\n",
      "labels = 'activity'\n",
      "# take the subject column name\n",
      "subject = 'subject'\n",
      "# the the features column name (:= {all columns} - {subject, labels})\n",
      "features = filter(lambda x: x not in list([labels, subject]), samsungData.columns)\n",
      "\n",
      "# encode labels as integer\n",
      "le = preprocessing.LabelEncoder()\n",
      "le.fit(samsungData[labels])\n",
      "\n",
      "test_subjects = [27, 28, 29, 30] # what is required: [27, 28, 29, 30]\n",
      "train_subjects = filter(lambda x: x not in test_subjects, np.unique(samsungData['subject'])) # what is required: [1, 3, 5, 6]\n",
      "\n",
      "# take training and test set from requested subjects\n",
      "train = samsungData[samsungData['subject'].isin(train_subjects)]\n",
      "test = samsungData[samsungData['subject'].isin(test_subjects)]"
     ],
     "language": "python",
     "metadata": {},
     "outputs": [],
     "prompt_number": 11
    },
    {
     "cell_type": "code",
     "collapsed": false,
     "input": [
      "# look for distribution of feature values\n",
      "plot(samsungData[features].mean(), 'o', markersize=3);"
     ],
     "language": "python",
     "metadata": {},
     "outputs": [
      {
       "output_type": "display_data",
       "png": "[encoded data removed]"
      }
     ],
     "prompt_number": 12
    },
    {
     "cell_type": "code",
     "collapsed": false,
     "input": [
      "# training data\n",
      "X = train[features]\n",
      "y = le.transform(train[labels])\n",
      "\n",
      "# test data\n",
      "Xt = test[features]\n",
      "yt = le.transform(test[labels])"
     ],
     "language": "python",
     "metadata": {},
     "outputs": [],
     "prompt_number": 13
    },
    {
     "cell_type": "heading",
     "level": 3,
     "metadata": {},
     "source": [
      "Random Forest"
     ]
    },
    {
     "cell_type": "markdown",
     "metadata": {},
     "source": [
      "First we try training a Random Forest classifier and see how it performs. Pay attention to the line with <b>GridSearchCV</b> call; there's really a lot of things going on there: it accepts the all hyperparameter combinations in the <i>tuned_parameters</i> variable, it splits the data into training and cross-validation sets, and does it three times to do a 3-fold cross-validation.. phew.."
     ]
    },
    {
     "cell_type": "code",
     "collapsed": false,
     "input": [
      "# train random forest classifier\n",
      "# set the parameters by cross-validation\n",
      "tuned_parameters = [{'max_features': ['sqrt', 'log2'], 'n_estimators': [100, 200, 500]}]\n",
      "rf = GridSearchCV( RandomForestClassifier(min_samples_split=1, compute_importances=False, n_jobs=-1), tuned_parameters, cv=3, verbose=2 ).fit(X, y)"
     ],
     "language": "python",
     "metadata": {},
     "outputs": [
      {
       "output_type": "stream",
       "stream": "stdout",
       "text": [
        "[GridSearchCV] max_features=sqrt, n_estimators=100 .............................\n"
       ]
      },
      {
       "output_type": "stream",
       "stream": "stdout",
       "text": [
        "[GridSearchCV] .................... max_features=sqrt, n_estimators=100 -  28.9s\n",
        "[GridSearchCV] max_features=sqrt, n_estimators=100 .............................\n"
       ]
      },
      {
       "output_type": "stream",
       "stream": "stderr",
       "text": [
        "[Parallel(n_jobs=1)]: Done   1 jobs       | elapsed:   28.9s\n"
       ]
      },
      {
       "output_type": "stream",
       "stream": "stdout",
       "text": [
        "[GridSearchCV] .................... max_features=sqrt, n_estimators=100 -  26.4s\n",
        "[GridSearchCV] max_features=sqrt, n_estimators=100 .............................\n"
       ]
      },
      {
       "output_type": "stream",
       "stream": "stdout",
       "text": [
        "[GridSearchCV] .................... max_features=sqrt, n_estimators=100 -  26.0s\n",
        "[GridSearchCV] max_features=sqrt, n_estimators=200 .............................\n"
       ]
      },
      {
       "output_type": "stream",
       "stream": "stdout",
       "text": [
        "[GridSearchCV] .................... max_features=sqrt, n_estimators=200 -  55.1s\n",
        "[GridSearchCV] max_features=sqrt, n_estimators=200 .............................\n"
       ]
      },
      {
       "output_type": "stream",
       "stream": "stdout",
       "text": [
        "[GridSearchCV] .................... max_features=sqrt, n_estimators=200 -  55.5s\n",
        "[GridSearchCV] max_features=sqrt, n_estimators=200 .............................\n"
       ]
      },
      {
       "output_type": "stream",
       "stream": "stdout",
       "text": [
        "[GridSearchCV] .................... max_features=sqrt, n_estimators=200 -  50.0s\n",
        "[GridSearchCV] max_features=sqrt, n_estimators=500 .............................\n"
       ]
      },
      {
       "output_type": "stream",
       "stream": "stdout",
       "text": [
        "[GridSearchCV] .................... max_features=sqrt, n_estimators=500 - 2.1min\n",
        "[GridSearchCV] max_features=sqrt, n_estimators=500 .............................\n"
       ]
      },
      {
       "output_type": "stream",
       "stream": "stdout",
       "text": [
        "[GridSearchCV] .................... max_features=sqrt, n_estimators=500 - 2.3min\n",
        "[GridSearchCV] max_features=sqrt, n_estimators=500 ............................."
       ]
      },
      {
       "output_type": "stream",
       "stream": "stdout",
       "text": [
        "\n"
       ]
      },
      {
       "output_type": "stream",
       "stream": "stdout",
       "text": [
        "[GridSearchCV] .................... max_features=sqrt, n_estimators=500 - 2.1min\n",
        "[GridSearchCV] max_features=log2, n_estimators=100 .............................\n"
       ]
      },
      {
       "output_type": "stream",
       "stream": "stdout",
       "text": [
        "[GridSearchCV] .................... max_features=log2, n_estimators=100 -  27.3s\n",
        "[GridSearchCV] max_features=log2, n_estimators=100 .............................\n"
       ]
      },
      {
       "output_type": "stream",
       "stream": "stdout",
       "text": [
        "[GridSearchCV] .................... max_features=log2, n_estimators=100 -  26.7s\n",
        "[GridSearchCV] max_features=log2, n_estimators=100 .............................\n"
       ]
      },
      {
       "output_type": "stream",
       "stream": "stdout",
       "text": [
        "[GridSearchCV] .................... max_features=log2, n_estimators=100 -  27.9s\n",
        "[GridSearchCV] max_features=log2, n_estimators=200 .............................\n"
       ]
      },
      {
       "output_type": "stream",
       "stream": "stdout",
       "text": [
        "[GridSearchCV] .................... max_features=log2, n_estimators=200 -  52.6s\n",
        "[GridSearchCV] max_features=log2, n_estimators=200 .............................\n"
       ]
      },
      {
       "output_type": "stream",
       "stream": "stdout",
       "text": [
        "[GridSearchCV] .................... max_features=log2, n_estimators=200 -  56.2s\n",
        "[GridSearchCV] max_features=log2, n_estimators=200 .............................\n"
       ]
      },
      {
       "output_type": "stream",
       "stream": "stdout",
       "text": [
        "[GridSearchCV] .................... max_features=log2, n_estimators=200 -  51.8s\n",
        "[GridSearchCV] max_features=log2, n_estimators=500 .............................\n"
       ]
      },
      {
       "output_type": "stream",
       "stream": "stdout",
       "text": [
        "[GridSearchCV] .................... max_features=log2, n_estimators=500 - 2.3min\n",
        "[GridSearchCV] max_features=log2, n_estimators=500 .............................\n"
       ]
      },
      {
       "output_type": "stream",
       "stream": "stdout",
       "text": [
        "[GridSearchCV] .................... max_features=log2, n_estimators=500 - 2.2min\n",
        "[GridSearchCV] max_features=log2, n_estimators=500 ............................."
       ]
      },
      {
       "output_type": "stream",
       "stream": "stdout",
       "text": [
        "\n"
       ]
      },
      {
       "output_type": "stream",
       "stream": "stdout",
       "text": [
        "[GridSearchCV] .................... max_features=log2, n_estimators=500 - 2.3min\n"
       ]
      },
      {
       "output_type": "stream",
       "stream": "stderr",
       "text": [
        "[Parallel(n_jobs=1)]: Done  18 out of  18 | elapsed: 21.4min finished\n"
       ]
      }
     ],
     "prompt_number": 14
    },
    {
     "cell_type": "code",
     "collapsed": false,
     "input": [
      "print 'Best parameters set found on development set:'\n",
      "print rf.best_estimator_"
     ],
     "language": "python",
     "metadata": {},
     "outputs": [
      {
       "output_type": "stream",
       "stream": "stdout",
       "text": [
        "Best parameters set found on development set:\n",
        "RandomForestClassifier(bootstrap=True, compute_importances=True,\n",
        "            criterion=gini, max_depth=None, max_features=log2,\n",
        "            min_density=0.1, min_samples_leaf=1, min_samples_split=1,\n",
        "            n_estimators=500, n_jobs=-1, oob_score=False,\n",
        "            random_state=None, verbose=0)\n"
       ]
      }
     ],
     "prompt_number": 15
    },
    {
     "cell_type": "markdown",
     "metadata": {},
     "source": [
      "<br><br> Now let's see how it performs on the test set. Note the classifier performance is computed as classification accuracy:\n",
      "\n",
      "$$A = \\frac{1}{N_T}\\sum_{i=1}^{N_T}1(\\hat{y}_i = y_i)$$\n",
      "\n",
      "where $N_T$ is the number of samples in the training set, $\\hat{y}_i$ is the classifier prediction, and $y_i$ is the label of the test sample. $1(\\cdot)$ is an indicator variable that takes the value of one if the expression in the paranthesis evaluates to True, and zero if it evaluates to False."
     ]
    },
    {
     "cell_type": "code",
     "collapsed": false,
     "input": [
      "pred = rf.predict(Xt)\n",
      "print 'prediction accuracy: %.4f' % (1 - (1. / len(yt) * sum( pred != yt )))"
     ],
     "language": "python",
     "metadata": {},
     "outputs": [
      {
       "output_type": "stream",
       "stream": "stdout",
       "text": [
        "prediction accuracy: 0.9630\n"
       ]
      }
     ],
     "prompt_number": 16
    },
    {
     "cell_type": "markdown",
     "metadata": {},
     "source": [
      "<br><b>96.57% of prediction accuracy</b>. Not bad, but let's see if other models can do better..."
     ]
    },
    {
     "cell_type": "markdown",
     "metadata": {},
     "source": [
      "But first, let's get some feature importance values for the report."
     ]
    },
    {
     "cell_type": "code",
     "collapsed": false,
     "input": [
      "rfclf = RandomForestClassifier(max_features='log2', n_estimators=500, min_samples_split=1, compute_importances=True, n_jobs=-1).fit(X, y)"
     ],
     "language": "python",
     "metadata": {},
     "outputs": [],
     "prompt_number": 17
    },
    {
     "cell_type": "code",
     "collapsed": false,
     "input": [
      "rfclf.feature_importances_.shape"
     ],
     "language": "python",
     "metadata": {},
     "outputs": [
      {
       "output_type": "pyout",
       "prompt_number": 22,
       "text": [
        "(564,)"
       ]
      }
     ],
     "prompt_number": 22
    },
    {
     "cell_type": "code",
     "collapsed": false,
     "input": [
      "numfeat = 11\n",
      "indices = np.argsort(rfclf.feature_importances_)[::-1][:numfeat]\n",
      "bar(xrange(numfeat), rfclf.feature_importances_[indices], align='center', alpha=.5)\n",
      "xticks(xrange(numfeat), X.columns[indices], rotation='vertical', fontsize=12)\n",
      "xlim([-1, numfeat])\n",
      "\n",
      "ylabel('Feature importances', fontsize=12)\n",
      "\n",
      "suptitle('Feature importances computed by Random Forest', fontsize=16)\n",
      "\n",
      "f = gcf()\n",
      "subplots_adjust(bottom=0.3)\n",
      "f.set_size_inches(11, 8);\n",
      "f.savefig('feature_importance.png', dpi=150);"
     ],
     "language": "python",
     "metadata": {},
     "outputs": [
      {
       "output_type": "display_data",
       "png": "[encoded data removed]"
      }
     ],
     "prompt_number": 44
    },
    {
     "cell_type": "heading",
     "level": 3,
     "metadata": {},
     "source": [
      "SVM"
     ]
    },
    {
     "cell_type": "markdown",
     "metadata": {},
     "source": [
      "Let's see how a Support Vector Machine classifier performs. Again, pay attention to the <b>GridSearchCV</b> line..."
     ]
    },
    {
     "cell_type": "code",
     "collapsed": false,
     "input": [
      "# train the SVM classifier\n",
      "# set the parameters by cross-validation\n",
      "tuned_parameters = [{'kernel': ['rbf'], 'gamma': [0.1, 1e-2, 1e-3], 'C': [10, 100, 1000]},\n",
      "                    {'kernel': ['linear'], 'C': [10, 100, 1000]}]\n",
      "\n",
      "svm1 = GridSearchCV( SVC(), tuned_parameters, cv=3, verbose=2 ).fit(X, y)"
     ],
     "language": "python",
     "metadata": {},
     "outputs": [
      {
       "output_type": "stream",
       "stream": "stdout",
       "text": [
        "[GridSearchCV] kernel=rbf, C=10, gamma=0.1 .....................................\n",
        "[GridSearchCV] ............................ kernel=rbf, C=10, gamma=0.1 -  37.1s"
       ]
      },
      {
       "output_type": "stream",
       "stream": "stdout",
       "text": [
        "\n",
        "[GridSearchCV] kernel=rbf, C=10, gamma=0.1 .....................................\n",
        "[GridSearchCV] ............................ kernel=rbf, C=10, gamma=0.1 -  31.1s"
       ]
      },
      {
       "output_type": "stream",
       "stream": "stdout",
       "text": [
        "\n",
        "[GridSearchCV] kernel=rbf, C=10, gamma=0.1 .....................................\n",
        "[GridSearchCV] ............................ kernel=rbf, C=10, gamma=0.1 -  29.4s"
       ]
      },
      {
       "output_type": "stream",
       "stream": "stdout",
       "text": [
        "\n",
        "[GridSearchCV] kernel=rbf, C=10, gamma=0.01 ....................................\n",
        "[GridSearchCV] ........................... kernel=rbf, C=10, gamma=0.01 -   6.2s"
       ]
      },
      {
       "output_type": "stream",
       "stream": "stdout",
       "text": [
        "\n",
        "[GridSearchCV] kernel=rbf, C=10, gamma=0.01 ....................................\n",
        "[GridSearchCV] ........................... kernel=rbf, C=10, gamma=0.01 -   6.3s"
       ]
      },
      {
       "output_type": "stream",
       "stream": "stdout",
       "text": [
        "\n",
        "[GridSearchCV] kernel=rbf, C=10, gamma=0.01 ....................................\n",
        "[GridSearchCV] ........................... kernel=rbf, C=10, gamma=0.01 -   6.4s"
       ]
      },
      {
       "output_type": "stream",
       "stream": "stdout",
       "text": [
        "\n",
        "[GridSearchCV] kernel=rbf, C=10, gamma=0.001 ...................................\n",
        "[GridSearchCV] .......................... kernel=rbf, C=10, gamma=0.001 -   7.8s"
       ]
      },
      {
       "output_type": "stream",
       "stream": "stdout",
       "text": [
        "\n",
        "[GridSearchCV] kernel=rbf, C=10, gamma=0.001 ...................................\n",
        "[GridSearchCV] .......................... kernel=rbf, C=10, gamma=0.001 -   7.9s"
       ]
      },
      {
       "output_type": "stream",
       "stream": "stdout",
       "text": [
        "\n",
        "[GridSearchCV] kernel=rbf, C=10, gamma=0.001 ...................................\n",
        "[GridSearchCV] .......................... kernel=rbf, C=10, gamma=0.001 -   7.9s"
       ]
      },
      {
       "output_type": "stream",
       "stream": "stdout",
       "text": [
        "\n",
        "[GridSearchCV] kernel=rbf, C=100, gamma=0.1 ....................................\n",
        "[GridSearchCV] ........................... kernel=rbf, C=100, gamma=0.1 -  28.9s"
       ]
      },
      {
       "output_type": "stream",
       "stream": "stdout",
       "text": [
        "\n",
        "[GridSearchCV] kernel=rbf, C=100, gamma=0.1 ....................................\n",
        "[GridSearchCV] ........................... kernel=rbf, C=100, gamma=0.1 -  28.9s"
       ]
      },
      {
       "output_type": "stream",
       "stream": "stdout",
       "text": [
        "\n",
        "[GridSearchCV] kernel=rbf, C=100, gamma=0.1 ....................................\n",
        "[GridSearchCV] ........................... kernel=rbf, C=100, gamma=0.1 -  29.4s"
       ]
      },
      {
       "output_type": "stream",
       "stream": "stdout",
       "text": [
        "\n",
        "[GridSearchCV] kernel=rbf, C=100, gamma=0.01 ...................................\n",
        "[GridSearchCV] .......................... kernel=rbf, C=100, gamma=0.01 -   5.9s"
       ]
      },
      {
       "output_type": "stream",
       "stream": "stdout",
       "text": [
        "\n",
        "[GridSearchCV] kernel=rbf, C=100, gamma=0.01 ...................................\n",
        "[GridSearchCV] .......................... kernel=rbf, C=100, gamma=0.01 -   6.0s"
       ]
      },
      {
       "output_type": "stream",
       "stream": "stdout",
       "text": [
        "\n",
        "[GridSearchCV] kernel=rbf, C=100, gamma=0.01 ...................................\n",
        "[GridSearchCV] .......................... kernel=rbf, C=100, gamma=0.01 -   5.9s"
       ]
      },
      {
       "output_type": "stream",
       "stream": "stdout",
       "text": [
        "\n",
        "[GridSearchCV] kernel=rbf, C=100, gamma=0.001 ..................................\n",
        "[GridSearchCV] ......................... kernel=rbf, C=100, gamma=0.001 -   4.7s"
       ]
      },
      {
       "output_type": "stream",
       "stream": "stdout",
       "text": [
        "\n",
        "[GridSearchCV] kernel=rbf, C=100, gamma=0.001 ..................................\n",
        "[GridSearchCV] ......................... kernel=rbf, C=100, gamma=0.001 -   4.7s"
       ]
      },
      {
       "output_type": "stream",
       "stream": "stdout",
       "text": [
        "\n",
        "[GridSearchCV] kernel=rbf, C=100, gamma=0.001 ..................................\n",
        "[GridSearchCV] ......................... kernel=rbf, C=100, gamma=0.001 -   4.8s"
       ]
      },
      {
       "output_type": "stream",
       "stream": "stdout",
       "text": [
        "\n",
        "[GridSearchCV] kernel=rbf, C=1000, gamma=0.1 ...................................\n",
        "[GridSearchCV] .......................... kernel=rbf, C=1000, gamma=0.1 -  29.0s"
       ]
      },
      {
       "output_type": "stream",
       "stream": "stdout",
       "text": [
        "\n",
        "[GridSearchCV] kernel=rbf, C=1000, gamma=0.1 ...................................\n",
        "[GridSearchCV] .......................... kernel=rbf, C=1000, gamma=0.1 -  30.7s"
       ]
      },
      {
       "output_type": "stream",
       "stream": "stdout",
       "text": [
        "\n",
        "[GridSearchCV] kernel=rbf, C=1000, gamma=0.1 ...................................\n",
        "[GridSearchCV] .......................... kernel=rbf, C=1000, gamma=0.1 -  29.3s"
       ]
      },
      {
       "output_type": "stream",
       "stream": "stdout",
       "text": [
        "\n",
        "[GridSearchCV] kernel=rbf, C=1000, gamma=0.01 ..................................\n",
        "[GridSearchCV] ......................... kernel=rbf, C=1000, gamma=0.01 -   5.9s"
       ]
      },
      {
       "output_type": "stream",
       "stream": "stdout",
       "text": [
        "\n",
        "[GridSearchCV] kernel=rbf, C=1000, gamma=0.01 ..................................\n",
        "[GridSearchCV] ......................... kernel=rbf, C=1000, gamma=0.01 -   5.9s"
       ]
      },
      {
       "output_type": "stream",
       "stream": "stdout",
       "text": [
        "\n",
        "[GridSearchCV] kernel=rbf, C=1000, gamma=0.01 ..................................\n",
        "[GridSearchCV] ......................... kernel=rbf, C=1000, gamma=0.01 -   5.9s"
       ]
      },
      {
       "output_type": "stream",
       "stream": "stdout",
       "text": [
        "\n",
        "[GridSearchCV] kernel=rbf, C=1000, gamma=0.001 .................................\n",
        "[GridSearchCV] ........................ kernel=rbf, C=1000, gamma=0.001 -   4.0s"
       ]
      },
      {
       "output_type": "stream",
       "stream": "stdout",
       "text": [
        "\n",
        "[GridSearchCV] kernel=rbf, C=1000, gamma=0.001 .................................\n",
        "[GridSearchCV] ........................ kernel=rbf, C=1000, gamma=0.001 -   4.2s"
       ]
      },
      {
       "output_type": "stream",
       "stream": "stdout",
       "text": [
        "\n",
        "[GridSearchCV] kernel=rbf, C=1000, gamma=0.001 .................................\n",
        "[GridSearchCV] ........................ kernel=rbf, C=1000, gamma=0.001 -   4.2s"
       ]
      },
      {
       "output_type": "stream",
       "stream": "stdout",
       "text": [
        "\n",
        "[GridSearchCV] kernel=linear, C=10 .............................................\n",
        "[GridSearchCV] .................................... kernel=linear, C=10 -   3.8s"
       ]
      },
      {
       "output_type": "stream",
       "stream": "stdout",
       "text": [
        "\n",
        "[GridSearchCV] kernel=linear, C=10 .............................................\n",
        "[GridSearchCV] .................................... kernel=linear, C=10 -   3.9s"
       ]
      },
      {
       "output_type": "stream",
       "stream": "stdout",
       "text": [
        "\n",
        "[GridSearchCV] kernel=linear, C=10 .............................................\n",
        "[GridSearchCV] .................................... kernel=linear, C=10 -   5.1s"
       ]
      },
      {
       "output_type": "stream",
       "stream": "stdout",
       "text": [
        "\n",
        "[GridSearchCV] kernel=linear, C=100 ............................................\n",
        "[GridSearchCV] ................................... kernel=linear, C=100 -   3.9s"
       ]
      },
      {
       "output_type": "stream",
       "stream": "stdout",
       "text": [
        "\n",
        "[GridSearchCV] kernel=linear, C=100 ............................................\n",
        "[GridSearchCV] ................................... kernel=linear, C=100 -   4.1s"
       ]
      },
      {
       "output_type": "stream",
       "stream": "stdout",
       "text": [
        "\n",
        "[GridSearchCV] kernel=linear, C=100 ............................................\n",
        "[GridSearchCV] ................................... kernel=linear, C=100 -   4.1s"
       ]
      },
      {
       "output_type": "stream",
       "stream": "stdout",
       "text": [
        "\n",
        "[GridSearchCV] kernel=linear, C=1000 ...........................................\n",
        "[GridSearchCV] .................................. kernel=linear, C=1000 -   4.4s"
       ]
      },
      {
       "output_type": "stream",
       "stream": "stdout",
       "text": [
        "\n",
        "[GridSearchCV] kernel=linear, C=1000 ...........................................\n",
        "[GridSearchCV] .................................. kernel=linear, C=1000 -   4.2s"
       ]
      },
      {
       "output_type": "stream",
       "stream": "stdout",
       "text": [
        "\n",
        "[GridSearchCV] kernel=linear, C=1000 ...........................................\n",
        "[GridSearchCV] .................................. kernel=linear, C=1000 -   4.1s"
       ]
      },
      {
       "output_type": "stream",
       "stream": "stderr",
       "text": [
        "[Parallel(n_jobs=1)]: Done   1 jobs       | elapsed:   37.1s\n",
        "[Parallel(n_jobs=1)]: Done  36 out of  36 | elapsed:  6.9min finished\n"
       ]
      },
      {
       "output_type": "stream",
       "stream": "stdout",
       "text": [
        "\n"
       ]
      }
     ],
     "prompt_number": 24
    },
    {
     "cell_type": "code",
     "collapsed": false,
     "input": [
      "print 'Best parameters set found on development set:'\n",
      "print svm1.best_estimator_"
     ],
     "language": "python",
     "metadata": {},
     "outputs": [
      {
       "output_type": "stream",
       "stream": "stdout",
       "text": [
        "Best parameters set found on development set:\n",
        "SVC(C=1000, cache_size=200, class_weight=None, coef0=0.0, degree=3,\n",
        "  gamma=0.01, kernel=rbf, max_iter=-1, probability=False, shrinking=True,\n",
        "  tol=0.001, verbose=False)\n"
       ]
      }
     ],
     "prompt_number": 25
    },
    {
     "cell_type": "code",
     "collapsed": false,
     "input": [
      "# prediction on test set\n",
      "pred = svm1.predict(Xt)\n",
      "print 'prediction accuracy: %.4f' % (1 - (1. / len(yt) * sum( pred != yt )))"
     ],
     "language": "python",
     "metadata": {},
     "outputs": [
      {
       "output_type": "stream",
       "stream": "stdout",
       "text": [
        "prediction accuracy: 0.9737\n"
       ]
      }
     ],
     "prompt_number": 27
    },
    {
     "cell_type": "markdown",
     "metadata": {},
     "source": [
      "<br>So <b>96.16% of prediction accuracy</b>. Again not bad, but could be better. Let's see how an ensemble of models would perform..."
     ]
    },
    {
     "cell_type": "heading",
     "level": 3,
     "metadata": {},
     "source": [
      "Combined models each trained on bootstrap data"
     ]
    },
    {
     "cell_type": "markdown",
     "metadata": {},
     "source": [
      "In the following we'll combine seven classifiers, two Random Forests and five SVMs. The choice of seven is as we have six types of activities and we want to do a majority voting to get the final prediction. By the <a href=\"http://en.wikipedia.org/wiki/Pigeonhole_principle\">pigeonhole principle</a>, we need at least seven prediction outputs to guarantee that there will always be a majority, i.e. an activity class with more than one vote. \n",
      "\n",
      "Also, for each of the classifier type, we use the original training dataset for one of the models, and <a href=\"http://en.wikipedia.org/wiki/Bootstrapping_(statistics)\">bootstrapped</a> data for the others.\n",
      "\n",
      "First, train two Random Forests:"
     ]
    },
    {
     "cell_type": "code",
     "collapsed": false,
     "input": [
      "repeat = 2\n",
      "\n",
      "classifiers = []\n",
      "\n",
      "# train random forest classifiers\n",
      "for i in xrange(repeat):\n",
      "    # generate bootstrap data\n",
      "    if i == 0:\n",
      "        tix = np.random.choice(train.index, size=len(train), replace=False)\n",
      "    else:\n",
      "        tix = np.random.choice(train.index, size=len(train), replace=True)\n",
      "    this_train = train.ix[tix,:]\n",
      "    \n",
      "    # training data\n",
      "    X = this_train[features]\n",
      "    y = le.transform(this_train[labels])\n",
      "    \n",
      "    # set the parameters by cross-validation\n",
      "    tuned_parameters = [{'n_estimators': [100, 200, 500]}]\n",
      "    clf = GridSearchCV( RandomForestClassifier(n_jobs=-1, min_samples_split=1), tuned_parameters, cv=3, verbose=1 ).fit(X, y)\n",
      "    \n",
      "    classifiers.append(clf)"
     ],
     "language": "python",
     "metadata": {},
     "outputs": [
      {
       "output_type": "stream",
       "stream": "stderr",
       "text": [
        "[Parallel(n_jobs=1)]: Done   1 jobs       | elapsed:   35.4s\n"
       ]
      },
      {
       "output_type": "stream",
       "stream": "stderr",
       "text": [
        "[Parallel(n_jobs=1)]: Done   9 out of   9 | elapsed: 14.3min finished\n"
       ]
      },
      {
       "output_type": "stream",
       "stream": "stderr",
       "text": [
        "[Parallel(n_jobs=1)]: Done   1 jobs       | elapsed:   32.8s\n"
       ]
      },
      {
       "output_type": "stream",
       "stream": "stderr",
       "text": [
        "[Parallel(n_jobs=1)]: Done   9 out of   9 | elapsed: 11.9min finished\n"
       ]
      }
     ],
     "prompt_number": 35
    },
    {
     "cell_type": "markdown",
     "metadata": {},
     "source": [
      "<br><br>Then train five SVMs:"
     ]
    },
    {
     "cell_type": "code",
     "collapsed": true,
     "input": [
      "repeat = 7\n",
      "\n",
      "classifiers = []\n",
      "\n",
      "# train SVM classifiers\n",
      "for i in xrange(repeat):\n",
      "    # generate bootstrap data\n",
      "    if i == 0:\n",
      "        tix = np.random.choice(train.index, size=len(train), replace=False)\n",
      "    else:\n",
      "        tix = np.random.choice(train.index, size=len(train), replace=True)\n",
      "    this_train = train.ix[tix,:]\n",
      "    \n",
      "    # training data\n",
      "    X = this_train[features]\n",
      "    y = le.transform(this_train[labels])\n",
      "    \n",
      "    # set the parameters by cross-validation\n",
      "    tuned_parameters = [{'gamma': [.1, 1e-2, 1e-3, 1e-4], 'C': [10., 100., 1000.]}]\n",
      "    clf = GridSearchCV( SVC(), tuned_parameters, cv=3, verbose=1 ).fit(X, y)\n",
      "    \n",
      "    classifiers.append(clf)"
     ],
     "language": "python",
     "metadata": {},
     "outputs": [
      {
       "output_type": "stream",
       "stream": "stderr",
       "text": [
        "[Parallel(n_jobs=1)]: Done   1 jobs       | elapsed:   33.5s\n",
        "[Parallel(n_jobs=1)]: Done  36 out of  36 | elapsed:  7.9min finished\n"
       ]
      },
      {
       "output_type": "stream",
       "stream": "stderr",
       "text": [
        "[Parallel(n_jobs=1)]: Done   1 jobs       | elapsed:   25.7s\n",
        "[Parallel(n_jobs=1)]: Done  36 out of  36 | elapsed:  7.0min finished\n"
       ]
      },
      {
       "output_type": "stream",
       "stream": "stderr",
       "text": [
        "[Parallel(n_jobs=1)]: Done   1 jobs       | elapsed:   25.3s\n",
        "[Parallel(n_jobs=1)]: Done  36 out of  36 | elapsed:  6.9min finished\n"
       ]
      },
      {
       "output_type": "stream",
       "stream": "stderr",
       "text": [
        "[Parallel(n_jobs=1)]: Done   1 jobs       | elapsed:   25.8s\n",
        "[Parallel(n_jobs=1)]: Done  36 out of  36 | elapsed:  6.9min finished\n"
       ]
      },
      {
       "output_type": "stream",
       "stream": "stderr",
       "text": [
        "[Parallel(n_jobs=1)]: Done   1 jobs       | elapsed:   25.5s\n",
        "[Parallel(n_jobs=1)]: Done  36 out of  36 | elapsed:  6.9min finished\n"
       ]
      },
      {
       "output_type": "stream",
       "stream": "stderr",
       "text": [
        "[Parallel(n_jobs=1)]: Done   1 jobs       | elapsed:   25.7s\n",
        "[Parallel(n_jobs=1)]: Done  36 out of  36 | elapsed:  6.9min finished\n"
       ]
      },
      {
       "output_type": "stream",
       "stream": "stderr",
       "text": [
        "[Parallel(n_jobs=1)]: Done   1 jobs       | elapsed:   25.9s\n",
        "[Parallel(n_jobs=1)]: Done  36 out of  36 | elapsed:  7.0min finished\n"
       ]
      }
     ],
     "prompt_number": 39
    },
    {
     "cell_type": "markdown",
     "metadata": {},
     "source": [
      "<br><br> Concatenate the all seven classifiers and perform prediction on the test set:"
     ]
    },
    {
     "cell_type": "code",
     "collapsed": false,
     "input": [
      "preds = np.zeros((len(classifiers), len(yt)), dtype=int)\n",
      "\n",
      "i = 0\n",
      "for clf in classifiers:\n",
      "    preds[i] = clf.predict(Xt)\n",
      "    i += 1"
     ],
     "language": "python",
     "metadata": {},
     "outputs": [],
     "prompt_number": 40
    },
    {
     "cell_type": "code",
     "collapsed": false,
     "input": [
      "preds.shape"
     ],
     "language": "python",
     "metadata": {},
     "outputs": [
      {
       "output_type": "pyout",
       "prompt_number": 41,
       "text": [
        "(7, 1485)"
       ]
      }
     ],
     "prompt_number": 41
    },
    {
     "cell_type": "markdown",
     "metadata": {},
     "source": [
      "<br><br> The total/final prediction is obtained as the majority of all the seven predictions:"
     ]
    },
    {
     "cell_type": "code",
     "collapsed": false,
     "input": [
      "total_pred = [np.bincount(x).argmax() for x in preds.T]\n",
      "print 'prediction accuracy: %.4f' % (1 - (1. / len(yt) * sum( total_pred != yt )))"
     ],
     "language": "python",
     "metadata": {},
     "outputs": [
      {
       "output_type": "stream",
       "stream": "stdout",
       "text": [
        "prediction accuracy: 0.9717\n"
       ]
      }
     ],
     "prompt_number": 42
    },
    {
     "cell_type": "markdown",
     "metadata": {},
     "source": [
      "<br><br> Here we get <b>a prediction accuracy of 97.91%</b>, which is better than the individual Random Forest and SVM prediction. \n",
      "\n",
      "As a final check, let's see where our classifier fails to predict correctly:"
     ]
    },
    {
     "cell_type": "code",
     "collapsed": false,
     "input": [
      "tt = np.array(total_pred)\n",
      "\n",
      "zip(tt[tt != yt], yt[tt != yt])"
     ],
     "language": "python",
     "metadata": {},
     "outputs": [
      {
       "output_type": "pyout",
       "prompt_number": 43,
       "text": [
        "[(1, 2),\n",
        " (1, 2),\n",
        " (1, 2),\n",
        " (1, 2),\n",
        " (1, 2),\n",
        " (2, 1),\n",
        " (2, 1),\n",
        " (2, 1),\n",
        " (2, 1),\n",
        " (2, 1),\n",
        " (2, 1),\n",
        " (2, 1),\n",
        " (2, 1),\n",
        " (2, 1),\n",
        " (2, 1),\n",
        " (2, 1),\n",
        " (2, 1),\n",
        " (2, 1),\n",
        " (2, 1),\n",
        " (2, 1),\n",
        " (2, 1),\n",
        " (2, 1),\n",
        " (2, 1),\n",
        " (2, 1),\n",
        " (2, 1),\n",
        " (2, 1),\n",
        " (2, 1),\n",
        " (2, 1),\n",
        " (2, 1),\n",
        " (2, 1),\n",
        " (1, 2),\n",
        " (1, 2),\n",
        " (1, 2),\n",
        " (1, 2),\n",
        " (1, 2),\n",
        " (1, 2),\n",
        " (1, 2),\n",
        " (1, 2),\n",
        " (1, 2),\n",
        " (1, 2),\n",
        " (2, 1),\n",
        " (2, 1)]"
       ]
      }
     ],
     "prompt_number": 43
    },
    {
     "cell_type": "markdown",
     "metadata": {},
     "source": [
      "As it turns out, all misclassifications happen for activities 1 (SITTING) and 2 (STANDING). This looks like a systematic misclassification. Further improvement can be achieved if we could search for features (or derivation/combination/transformation of them) that are able to cleanly separate these two activities."
     ]
    },
    {
     "cell_type": "markdown",
     "metadata": {},
     "source": [
      "<br><br><br> For completeness, let's see if other classifier types can do any better:"
     ]
    },
    {
     "cell_type": "markdown",
     "metadata": {},
     "source": [
      "<b>naive bayes</b>"
     ]
    },
    {
     "cell_type": "code",
     "collapsed": false,
     "input": [
      "# naive bayes\n",
      "from sklearn.naive_bayes import GaussianNB\n",
      "\n",
      "gnb = GaussianNB().fit(X, y)\n",
      "yt = gnb.predict(Xt)\n",
      "print 'prediction accuracy: %.4f' % (1 - (1. / len(yt) * sum( pred != yt )))"
     ],
     "language": "python",
     "metadata": {},
     "outputs": [
      {
       "output_type": "stream",
       "stream": "stdout",
       "text": [
        "prediction accuracy: 0.7421\n"
       ]
      }
     ],
     "prompt_number": 91
    },
    {
     "cell_type": "markdown",
     "metadata": {},
     "source": [
      "<b>k-nearest neighbour</b>"
     ]
    },
    {
     "cell_type": "code",
     "collapsed": false,
     "input": [
      "# kNN\n",
      "from sklearn import neighbors\n",
      "\n",
      "tuned_parameters = [{'n_neighbors' : [5, 10, 15, 20], 'weights' : ['uniform', 'distance']}]\n",
      "knn = GridSearchCV( neighbors.KNeighborsClassifier(n_neighbors=5), tuned_parameters, cv=3, n_jobs=-1 ).fit(X, y)"
     ],
     "language": "python",
     "metadata": {},
     "outputs": [],
     "prompt_number": 93
    },
    {
     "cell_type": "code",
     "collapsed": false,
     "input": [
      "print 'Best parameters set found on development set:'\n",
      "print knn.best_estimator_"
     ],
     "language": "python",
     "metadata": {},
     "outputs": [
      {
       "output_type": "stream",
       "stream": "stdout",
       "text": [
        "Best parameters set found on development set:\n",
        "KNeighborsClassifier(algorithm=auto, leaf_size=30, n_neighbors=5, p=2,\n",
        "           warn_on_equidistant=True, weights=distance)\n"
       ]
      }
     ],
     "prompt_number": 94
    },
    {
     "cell_type": "code",
     "collapsed": false,
     "input": [
      "# prediction on test set\n",
      "pred = knn.predict(Xt)\n",
      "print 'prediction accuracy: %.4f' % (1 - (1. / len(yt) * sum( pred != yt )))"
     ],
     "language": "python",
     "metadata": {},
     "outputs": [
      {
       "output_type": "stream",
       "stream": "stdout",
       "text": [
        "prediction accuracy: 0.7480\n"
       ]
      }
     ],
     "prompt_number": 95
    },
    {
     "cell_type": "markdown",
     "metadata": {},
     "source": [
      "We see that naive bayes and kNN classifiers don't do any better in this case."
     ]
    }
   ],
   "metadata": {}
  }
 ]
}